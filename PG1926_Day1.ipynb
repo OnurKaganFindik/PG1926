{
  "nbformat": 4,
  "nbformat_minor": 0,
  "metadata": {
    "colab": {
      "name": "PG1926-Day1.ipynb",
      "provenance": [],
      "collapsed_sections": [
        "2Q1wEAMJhAcV",
        "aWYakJiQhAcV",
        "TwLBhEjAhAcW",
        "WG8myBdPhAcX",
        "rOEAqInQGFVu",
        "IdTKuqyFmCN9",
        "0txXkvbamCN_",
        "Uqstf6kg1CCT",
        "zvyKibr2vVNm"
      ],
      "include_colab_link": true
    },
    "kernelspec": {
      "display_name": "Python 3",
      "language": "python",
      "name": "python3"
    },
    "language_info": {
      "codemirror_mode": {
        "name": "ipython",
        "version": 3
      },
      "file_extension": ".py",
      "mimetype": "text/x-python",
      "name": "python",
      "nbconvert_exporter": "python",
      "pygments_lexer": "ipython3",
      "version": "3.7.4"
    }
  },
  "cells": [
    {
      "cell_type": "markdown",
      "metadata": {
        "id": "view-in-github",
        "colab_type": "text"
      },
      "source": [
        "<a href=\"https://colab.research.google.com/github/mavideniz/PG1926/blob/main/PG1926_Day1.ipynb\" target=\"_parent\"><img src=\"https://colab.research.google.com/assets/colab-badge.svg\" alt=\"Open In Colab\"/></a>"
      ]
    },
    {
      "cell_type": "markdown",
      "metadata": {
        "id": "2Q1wEAMJhAcV"
      },
      "source": [
        "### Versiyon Kontrolü\r\n"
      ]
    },
    {
      "cell_type": "code",
      "metadata": {
        "id": "pHxZk2qOhAcV",
        "outputId": "4115630a-57b2-4d06-dc12-42952d61ae5a"
      },
      "source": [
        "!python --version"
      ],
      "execution_count": null,
      "outputs": [
        {
          "output_type": "stream",
          "text": [
            "Python 3.9.0\n"
          ],
          "name": "stdout"
        }
      ]
    },
    {
      "cell_type": "markdown",
      "metadata": {
        "id": "iWHzxrdvXU0-"
      },
      "source": [
        " ### Her yazılım dilinin ilk adımı \"Hello World!\"\r\n",
        " ![Image of Yaktocat](https://yavuzyalcintas.com/wp-content/uploads/2020/08/hello-world.png)"
      ]
    },
    {
      "cell_type": "code",
      "metadata": {
        "colab": {
          "base_uri": "https://localhost:8080/",
          "height": 35
        },
        "id": "NGB3j3LcdcbR",
        "scrolled": true,
        "outputId": "0e918c86-4b77-4d7c-c10f-e1a972106d00"
      },
      "source": [
        "print(\"Hello World!\")"
      ],
      "execution_count": null,
      "outputs": [
        {
          "output_type": "stream",
          "text": [
            "Hello World!\n"
          ],
          "name": "stdout"
        }
      ]
    },
    {
      "cell_type": "code",
      "metadata": {
        "colab": {
          "base_uri": "https://localhost:8080/",
          "height": 35
        },
        "id": "luSgefSQgFrV",
        "outputId": "4877f177-6614-41be-a626-80cc01087900"
      },
      "source": [
        "print('Hello World')"
      ],
      "execution_count": null,
      "outputs": [
        {
          "output_type": "stream",
          "text": [
            "Hello World\n"
          ],
          "name": "stdout"
        }
      ]
    },
    {
      "cell_type": "code",
      "metadata": {
        "colab": {
          "base_uri": "https://localhost:8080/",
          "height": 70
        },
        "id": "g_52IrQIgcPv",
        "outputId": "8fd62e25-a0e8-453a-8b90-61795d3cbaf1"
      },
      "source": [
        "print(\"Hello1\")\n",
        "print(\"Hello2\")\n",
        "print(\"Hello3\")\n",
        "print(\"Welcome to PG1926\")"
      ],
      "execution_count": null,
      "outputs": [
        {
          "output_type": "stream",
          "text": [
            "Hello1\n",
            "Hello2\n",
            "Hello3\n",
            "Welcome to Our Python course\n"
          ],
          "name": "stdout"
        }
      ]
    },
    {
      "cell_type": "code",
      "metadata": {
        "colab": {
          "base_uri": "https://localhost:8080/",
          "height": 132
        },
        "id": "2ualX2qpg3Hy",
        "outputId": "6f5bf215-4619-43b0-ca2a-35e7f275e02e"
      },
      "source": [
        "print \"Hello World\""
      ],
      "execution_count": null,
      "outputs": [
        {
          "output_type": "error",
          "ename": "SyntaxError",
          "evalue": "Missing parentheses in call to 'print'. Did you mean print(\"Hello World\")? (<ipython-input-4-2e860ebf713e>, line 1)",
          "traceback": [
            "\u001b[1;36m  File \u001b[1;32m\"<ipython-input-4-2e860ebf713e>\"\u001b[1;36m, line \u001b[1;32m1\u001b[0m\n\u001b[1;33m    print \"Hello World\"\u001b[0m\n\u001b[1;37m                      ^\u001b[0m\n\u001b[1;31mSyntaxError\u001b[0m\u001b[1;31m:\u001b[0m Missing parentheses in call to 'print'. Did you mean print(\"Hello World\")?\n"
          ]
        }
      ]
    },
    {
      "cell_type": "code",
      "metadata": {
        "colab": {
          "base_uri": "https://localhost:8080/",
          "height": 168
        },
        "id": "0BOHOWOdhcgp",
        "outputId": "10918476-5bf1-4d4e-e744-7ec1f4e31855"
      },
      "source": [
        "print(Hello)"
      ],
      "execution_count": null,
      "outputs": [
        {
          "output_type": "error",
          "ename": "NameError",
          "evalue": "name 'Hello' is not defined",
          "traceback": [
            "\u001b[1;31m---------------------------------------------------------------------------\u001b[0m",
            "\u001b[1;31mNameError\u001b[0m                                 Traceback (most recent call last)",
            "\u001b[1;32m<ipython-input-5-85bf5114fa6b>\u001b[0m in \u001b[0;36m<module>\u001b[1;34m\u001b[0m\n\u001b[1;32m----> 1\u001b[1;33m \u001b[0mprint\u001b[0m\u001b[1;33m(\u001b[0m\u001b[0mHello\u001b[0m\u001b[1;33m)\u001b[0m\u001b[1;33m\u001b[0m\u001b[1;33m\u001b[0m\u001b[0m\n\u001b[0m",
            "\u001b[1;31mNameError\u001b[0m: name 'Hello' is not defined"
          ]
        }
      ]
    },
    {
      "cell_type": "code",
      "metadata": {
        "colab": {
          "base_uri": "https://localhost:8080/",
          "height": 132
        },
        "id": "G69sCzFUhi5j",
        "outputId": "02a98d09-409c-4600-d1a5-a8d7a06c9f2c"
      },
      "source": [
        "print(\"Hello')"
      ],
      "execution_count": null,
      "outputs": [
        {
          "output_type": "error",
          "ename": "SyntaxError",
          "evalue": "EOL while scanning string literal (<ipython-input-6-21f0c5b97628>, line 1)",
          "traceback": [
            "\u001b[1;36m  File \u001b[1;32m\"<ipython-input-6-21f0c5b97628>\"\u001b[1;36m, line \u001b[1;32m1\u001b[0m\n\u001b[1;33m    print(\"Hello')\u001b[0m\n\u001b[1;37m                  ^\u001b[0m\n\u001b[1;31mSyntaxError\u001b[0m\u001b[1;31m:\u001b[0m EOL while scanning string literal\n"
          ]
        }
      ]
    },
    {
      "cell_type": "markdown",
      "metadata": {
        "id": "aWYakJiQhAcV"
      },
      "source": [
        "### Yorum Satırı\r\n"
      ]
    },
    {
      "cell_type": "code",
      "metadata": {
        "id": "JsFmw9IuFSKR"
      },
      "source": [
        "#taking some notes \n",
        "#taking some notes\n",
        "#take a note"
      ],
      "execution_count": null,
      "outputs": []
    },
    {
      "cell_type": "code",
      "metadata": {
        "colab": {
          "base_uri": "https://localhost:8080/",
          "height": 52
        },
        "id": "llzXRK61FadN",
        "outputId": "76f89b6c-c15e-4079-c5c0-7146387e825d"
      },
      "source": [
        "\n",
        "'''Michael Irwin Jordan is an American scientist, professor at the University of California, \n",
        "Berkeley and researcher in machine learning, statistics, and artificial intelligence.\n",
        "He is one of the leading figures in machine learning, \n",
        "and in 2016 Science reported him as the world's most influential computer scientist.\n",
        "'''.replace(\"\\n\",\" \")\n"
      ],
      "execution_count": null,
      "outputs": [
        {
          "output_type": "execute_result",
          "data": {
            "application/vnd.google.colaboratory.intrinsic+json": {
              "type": "string"
            },
            "text/plain": [
              "\"Michael Irwin Jordan is an American scientist, professor at the University of California,  Berkeley and researcher in machine learning, statistics, and artificial intelligence. He is one of the leading figures in machine learning,  and in 2016 Science reported him as the world's most influential computer scientist. \""
            ]
          },
          "metadata": {
            "tags": []
          },
          "execution_count": 2
        }
      ]
    },
    {
      "cell_type": "code",
      "metadata": {
        "colab": {
          "base_uri": "https://localhost:8080/",
          "height": 35
        },
        "id": "gs7XpZNIhAcW",
        "outputId": "2128fe4b-7578-4394-9bbe-cd097dc8dc6c"
      },
      "source": [
        "\n",
        "\"\"\"\n",
        "write something\n",
        "\"\"\"\n"
      ],
      "execution_count": null,
      "outputs": [
        {
          "output_type": "execute_result",
          "data": {
            "application/vnd.google.colaboratory.intrinsic+json": {
              "type": "string"
            },
            "text/plain": [
              "'\\nwrite something\\n'"
            ]
          },
          "metadata": {
            "tags": []
          },
          "execution_count": 3
        }
      ]
    },
    {
      "cell_type": "markdown",
      "metadata": {
        "id": "TwLBhEjAhAcW"
      },
      "source": [
        "### Değişken Tanımlama\n",
        "\n",
        "* variable = value\n",
        "\n",
        "* n = 5"
      ]
    },
    {
      "cell_type": "code",
      "metadata": {
        "id": "Sb178VuUloLP",
        "scrolled": true,
        "outputId": "b7a580e6-d198-427a-ab0a-6d630b558432"
      },
      "source": [
        "n = 1 \n",
        "print(n)"
      ],
      "execution_count": null,
      "outputs": [
        {
          "output_type": "stream",
          "text": [
            "1\n"
          ],
          "name": "stdout"
        }
      ]
    },
    {
      "cell_type": "code",
      "metadata": {
        "id": "18yuPbb5m9GG",
        "outputId": "91405325-d513-41e8-efba-65d021d5f58f"
      },
      "source": [
        "p = n\n",
        "print(p)"
      ],
      "execution_count": null,
      "outputs": [
        {
          "output_type": "stream",
          "text": [
            "1\n"
          ],
          "name": "stdout"
        }
      ]
    },
    {
      "cell_type": "markdown",
      "metadata": {
        "id": "WG8myBdPhAcX"
      },
      "source": [
        "### Veri Tipleri\n",
        "* Integer (Tam sayı)\n",
        "* Float (Kayar noktalı sayı)\n",
        "* String (Karakter dizisi)\n",
        "* Boolean\n",
        "* Complex (Karmaşık sayılar)\n",
        "* List (Liste)\n",
        "* Dictionary (Sözlük)\n",
        "* Tuple (Demet)\n",
        "* Set (Küme)\n"
      ]
    },
    {
      "cell_type": "code",
      "metadata": {
        "id": "GO6WONnhnVjB"
      },
      "source": [
        "#String\n",
        "hello = \"World\""
      ],
      "execution_count": null,
      "outputs": []
    },
    {
      "cell_type": "code",
      "metadata": {
        "id": "2YZLBCcinyfx",
        "outputId": "6a1df010-edd1-4b64-c266-8be4c866aff2"
      },
      "source": [
        "print(hello) #print variable\n",
        "print(\"World\") #print value\n",
        "print(n)"
      ],
      "execution_count": null,
      "outputs": [
        {
          "output_type": "stream",
          "text": [
            "World\n",
            "World\n",
            "1\n"
          ],
          "name": "stdout"
        }
      ]
    },
    {
      "cell_type": "code",
      "metadata": {
        "id": "SUUJq6chhAcY",
        "outputId": "4c9f6aaa-5ea4-405a-8f20-14b911e96b1e"
      },
      "source": [
        "#type() \n",
        "type(hello)"
      ],
      "execution_count": null,
      "outputs": [
        {
          "output_type": "execute_result",
          "data": {
            "text/plain": [
              "str"
            ]
          },
          "metadata": {
            "tags": []
          },
          "execution_count": 15
        }
      ]
    },
    {
      "cell_type": "code",
      "metadata": {
        "id": "letAfxW_oHH-",
        "outputId": "00be9e05-5ee1-4939-ffd0-652a7dab97ae"
      },
      "source": [
        "print(type(hello)) #print data type"
      ],
      "execution_count": null,
      "outputs": [
        {
          "output_type": "stream",
          "text": [
            "<class 'str'>\n"
          ],
          "name": "stdout"
        }
      ]
    },
    {
      "cell_type": "code",
      "metadata": {
        "id": "o6zYYebwhAcY",
        "outputId": "86d702b5-cf84-4d4c-f626-3975ddf9673b"
      },
      "source": [
        "#Integer\n",
        "int_value = 5\n",
        "int_value"
      ],
      "execution_count": null,
      "outputs": [
        {
          "output_type": "execute_result",
          "data": {
            "text/plain": [
              "5"
            ]
          },
          "metadata": {
            "tags": []
          },
          "execution_count": 17
        }
      ]
    },
    {
      "cell_type": "code",
      "metadata": {
        "id": "lQcQh8oMomlP",
        "outputId": "cb3ab639-aaa7-4fd5-d4e0-6d58a2e9e21a"
      },
      "source": [
        "print(type(int_value))"
      ],
      "execution_count": null,
      "outputs": [
        {
          "output_type": "stream",
          "text": [
            "<class 'int'>\n"
          ],
          "name": "stdout"
        }
      ]
    },
    {
      "cell_type": "code",
      "metadata": {
        "id": "FMM4y1JXMjsL",
        "outputId": "9eaa4e21-3138-4991-92be-ae5eba207bb4"
      },
      "source": [
        "t = 3.19\n",
        "print(type(t))"
      ],
      "execution_count": null,
      "outputs": [
        {
          "output_type": "stream",
          "text": [
            "<class 'float'>\n"
          ],
          "name": "stdout"
        }
      ]
    },
    {
      "cell_type": "code",
      "metadata": {
        "id": "hfJLQQPihAcZ",
        "outputId": "db01a26f-03cb-4867-95de-ce54d93b2dce"
      },
      "source": [
        "type('x')"
      ],
      "execution_count": null,
      "outputs": [
        {
          "output_type": "execute_result",
          "data": {
            "text/plain": [
              "str"
            ]
          },
          "metadata": {
            "tags": []
          },
          "execution_count": 30
        }
      ]
    },
    {
      "cell_type": "code",
      "metadata": {
        "id": "7DtsrxEHyHUH",
        "outputId": "77ab6169-894f-4acd-8c7a-745a33a83617"
      },
      "source": [
        "#Boolean\n",
        "t, f = True, False\n",
        "print(type(t))\n",
        "print(t)\n",
        "print(f)"
      ],
      "execution_count": null,
      "outputs": [
        {
          "output_type": "stream",
          "text": [
            "<class 'bool'>\n",
            "True\n",
            "False\n"
          ],
          "name": "stdout"
        }
      ]
    },
    {
      "cell_type": "code",
      "metadata": {
        "id": "VOFssaJZhAcZ",
        "outputId": "891aff6f-6f95-41db-8624-6a235f1641b9"
      },
      "source": [
        "#swapping\n",
        "data1 = 7 \n",
        "data2 = 12\n",
        "data3 = 23\n",
        "data4 = 33\n",
        "\n",
        "data1, data2, data3 , data4 = data2 , data1, data4, data3\n",
        "print(data1, data2, data3, data4)"
      ],
      "execution_count": null,
      "outputs": [
        {
          "output_type": "stream",
          "text": [
            "12 7 33 23\n"
          ],
          "name": "stdout"
        }
      ]
    },
    {
      "cell_type": "code",
      "metadata": {
        "id": "KDP17P0zhAcZ",
        "outputId": "f59e0cb9-5c06-4e83-87af-a90dbe4c004d"
      },
      "source": [
        "print(\"data1:\", data1, \"data:\", data2)"
      ],
      "execution_count": null,
      "outputs": [
        {
          "output_type": "stream",
          "text": [
            "data1: 12 data: 7\n"
          ],
          "name": "stdout"
        }
      ]
    },
    {
      "cell_type": "code",
      "metadata": {
        "id": "vRQDCHxLhAca"
      },
      "source": [
        "metin = \"\"\"Lorem ipsum dolor sit amet, consectetur adipiscing elit, sed do eiusmod tempor incididunt ut labore et dolore magna aliqua. Ut enim ad minim veniam, quis nostrud exercitation ullamco laboris nisi ut aliquip ex ea commodo consequat. Duis aute irure dolor in reprehenderit in voluptate velit esse cillum dolore eu fugiat nulla pariatur. Excepteur sint occaecat cupidatat non proident, sunt in culpa qui officia deserunt mollit anim id est laborum.\"\n",
        "\n",
        "Section 1.10.32 of \"de Finibus Bonorum et Malorum\", written by Cicero in 45 BC\n",
        "\"Sed ut perspiciatis unde omnis iste natus error sit voluptatem accusantium doloremque laudantium, totam rem aperiam, eaque ipsa quae ab illo inventore veritatis et quasi architecto beatae vitae dicta sunt explicabo. Nemo enim ipsam voluptatem quia voluptas sit aspernatur aut odit aut fugit, sed quia consequuntur magni dolores eos qui ratione voluptatem sequi nesciunt. Neque porro quisquam est, qui dolorem ipsum quia dolor sit amet, consectetur, adipisci velit, sed quia non numquam eius modi tempora incidunt ut labore et dolore magnam aliquam quaerat voluptatem. Ut enim ad minima veniam, quis nostrum exercitationem ullam corporis suscipit laboriosam, nisi ut aliquid ex ea commodi consequatur? Quis autem vel eum iure reprehenderit qui in ea voluptate velit esse quam nihil molestiae consequatur, vel illum qui dolorem eum fugiat quo voluptas nulla pariatur?\"\n",
        "\n",
        "1914 translation by H. Rackham\n",
        "\"But I must explain to you how all this mistaken idea of denouncing pleasure and praising pain was born and I will give you a complete account of the system, and expound the actual teachings of the great explorer of the truth, the master-builder of human happiness. No one rejects, dislikes, or avoids pleasure itself, because it is pleasure, but because those who do not know how to pursue pleasure rationally encounter consequences that are extremely painful. Nor again is there anyone who loves or pursues or desires to obtain pain of itself, because it is pain, but because occasionally circumstances occur in which toil and pain can procure him some great pleasure. To take a trivial example, which of us ever undertakes laborious physical exercise, except to obtain some advantage from it? But who has any right to find fault with a man who chooses to enjoy a pleasure that has no annoying consequences, or one who avoids a pain that produces no resultant pleasure?\"\"\""
      ],
      "execution_count": null,
      "outputs": []
    },
    {
      "cell_type": "code",
      "metadata": {
        "colab": {
          "base_uri": "https://localhost:8080/"
        },
        "id": "h1UFC3ARhAca",
        "outputId": "f9ba06e4-a9bc-4a82-8b0e-93e58d332c9e"
      },
      "source": [
        "len(metin)"
      ],
      "execution_count": null,
      "outputs": [
        {
          "output_type": "execute_result",
          "data": {
            "text/plain": [
              "2398"
            ]
          },
          "metadata": {
            "tags": []
          },
          "execution_count": 6
        }
      ]
    },
    {
      "cell_type": "code",
      "metadata": {
        "colab": {
          "base_uri": "https://localhost:8080/"
        },
        "id": "UleuXLMVwCgG",
        "outputId": "fdcbb7cd-4593-4831-d0d7-47182dedf422"
      },
      "source": [
        "print(len(metin)) #print data length "
      ],
      "execution_count": null,
      "outputs": [
        {
          "output_type": "stream",
          "text": [
            "2398\n"
          ],
          "name": "stdout"
        }
      ]
    },
    {
      "cell_type": "code",
      "metadata": {
        "id": "8JIXMfUVhAcb",
        "outputId": "dab5f29a-4b63-49b7-e7dc-68c8118ef93d"
      },
      "source": [
        "len(5)"
      ],
      "execution_count": null,
      "outputs": [
        {
          "output_type": "error",
          "ename": "TypeError",
          "evalue": "object of type 'int' has no len()",
          "traceback": [
            "\u001b[1;31m---------------------------------------------------------------------------\u001b[0m",
            "\u001b[1;31mTypeError\u001b[0m                                 Traceback (most recent call last)",
            "\u001b[1;32m<ipython-input-39-91fed648bb37>\u001b[0m in \u001b[0;36m<module>\u001b[1;34m\u001b[0m\n\u001b[1;32m----> 1\u001b[1;33m \u001b[0mlen\u001b[0m\u001b[1;33m(\u001b[0m\u001b[1;36m5\u001b[0m\u001b[1;33m)\u001b[0m\u001b[1;33m\u001b[0m\u001b[1;33m\u001b[0m\u001b[0m\n\u001b[0m",
            "\u001b[1;31mTypeError\u001b[0m: object of type 'int' has no len()"
          ]
        }
      ]
    },
    {
      "cell_type": "code",
      "metadata": {
        "id": "xD-DL1OUhAcb",
        "outputId": "49bddfb3-d7e9-473d-97d3-c5891913e1fd"
      },
      "source": [
        "len(15.6)"
      ],
      "execution_count": null,
      "outputs": [
        {
          "output_type": "error",
          "ename": "TypeError",
          "evalue": "object of type 'float' has no len()",
          "traceback": [
            "\u001b[1;31m---------------------------------------------------------------------------\u001b[0m",
            "\u001b[1;31mTypeError\u001b[0m                                 Traceback (most recent call last)",
            "\u001b[1;32m<ipython-input-40-79577706af1a>\u001b[0m in \u001b[0;36m<module>\u001b[1;34m\u001b[0m\n\u001b[1;32m----> 1\u001b[1;33m \u001b[0mlen\u001b[0m\u001b[1;33m(\u001b[0m\u001b[1;36m15.6\u001b[0m\u001b[1;33m)\u001b[0m\u001b[1;33m\u001b[0m\u001b[1;33m\u001b[0m\u001b[0m\n\u001b[0m",
            "\u001b[1;31mTypeError\u001b[0m: object of type 'float' has no len()"
          ]
        }
      ]
    },
    {
      "cell_type": "code",
      "metadata": {
        "id": "EjtEb3GDhAcc",
        "outputId": "1970c2cd-6513-4e41-ee9f-fc5658fbd112"
      },
      "source": [
        "a = 15\n",
        "b = 23\n",
        "\n",
        "a, b = b, a\n",
        "print(a)\n",
        "print(b)"
      ],
      "execution_count": null,
      "outputs": [
        {
          "output_type": "stream",
          "text": [
            "23\n",
            "15\n"
          ],
          "name": "stdout"
        }
      ]
    },
    {
      "cell_type": "code",
      "metadata": {
        "id": "cD0F7XrOhAcc",
        "outputId": "0f07d396-7f55-4171-97ae-d7231875fa0f"
      },
      "source": [
        "data12 = 5\n",
        "data13 = 90\n",
        "print(\"My value:{} and Your value:{}\".format(data12, data13))"
      ],
      "execution_count": null,
      "outputs": [
        {
          "output_type": "stream",
          "text": [
            "My value:5 and Your value:90\n"
          ],
          "name": "stdout"
        }
      ]
    },
    {
      "cell_type": "markdown",
      "metadata": {
        "id": "rOEAqInQGFVu"
      },
      "source": [
        "### Aritmetik Operatörler"
      ]
    },
    {
      "cell_type": "code",
      "metadata": {
        "id": "OQzlT59exPuY",
        "outputId": "b999829b-dab0-4895-eedd-687a3c0174d0"
      },
      "source": [
        "#exponential numbers\n",
        "5**2"
      ],
      "execution_count": null,
      "outputs": [
        {
          "output_type": "execute_result",
          "data": {
            "text/plain": [
              "25"
            ]
          },
          "metadata": {
            "tags": []
          },
          "execution_count": 51
        }
      ]
    },
    {
      "cell_type": "code",
      "metadata": {
        "id": "OyW_9a9fhAcf",
        "outputId": "3cff9d18-6088-46fd-fbf2-92a6f630095b"
      },
      "source": [
        "5**3"
      ],
      "execution_count": null,
      "outputs": [
        {
          "output_type": "execute_result",
          "data": {
            "text/plain": [
              "125"
            ]
          },
          "metadata": {
            "tags": []
          },
          "execution_count": 52
        }
      ]
    },
    {
      "cell_type": "code",
      "metadata": {
        "id": "IT5uTIgBGRIz",
        "outputId": "cde98cd5-923e-4deb-d7d5-391640798355"
      },
      "source": [
        "35+67"
      ],
      "execution_count": null,
      "outputs": [
        {
          "output_type": "execute_result",
          "data": {
            "text/plain": [
              "102"
            ]
          },
          "metadata": {
            "tags": []
          },
          "execution_count": 53
        }
      ]
    },
    {
      "cell_type": "code",
      "metadata": {
        "id": "UIwXGkZqGVId",
        "outputId": "8e8e516a-9788-477b-8a88-81c1d1d4af3a"
      },
      "source": [
        "\"35\"+\"67\""
      ],
      "execution_count": null,
      "outputs": [
        {
          "output_type": "execute_result",
          "data": {
            "text/plain": [
              "'3567'"
            ]
          },
          "metadata": {
            "tags": []
          },
          "execution_count": 54
        }
      ]
    },
    {
      "cell_type": "code",
      "metadata": {
        "colab": {
          "base_uri": "https://localhost:8080/",
          "height": 35
        },
        "id": "y0RFHDpZhAcf",
        "outputId": "5e6a91c8-1206-42ed-8e89-58553a284c3c"
      },
      "source": [
        "\"PG\" + \"1926\""
      ],
      "execution_count": null,
      "outputs": [
        {
          "output_type": "execute_result",
          "data": {
            "application/vnd.google.colaboratory.intrinsic+json": {
              "type": "string"
            },
            "text/plain": [
              "'PG1926'"
            ]
          },
          "metadata": {
            "tags": []
          },
          "execution_count": 8
        }
      ]
    },
    {
      "cell_type": "code",
      "metadata": {
        "id": "Qx0vjBUmGZNk",
        "outputId": "c9fdfa36-b2da-40cf-8c38-4c6e73e8d130"
      },
      "source": [
        "\"35\" + 67 "
      ],
      "execution_count": null,
      "outputs": [
        {
          "output_type": "error",
          "ename": "TypeError",
          "evalue": "can only concatenate str (not \"int\") to str",
          "traceback": [
            "\u001b[1;31m---------------------------------------------------------------------------\u001b[0m",
            "\u001b[1;31mTypeError\u001b[0m                                 Traceback (most recent call last)",
            "\u001b[1;32m<ipython-input-56-bb64d695b9f6>\u001b[0m in \u001b[0;36m<module>\u001b[1;34m\u001b[0m\n\u001b[1;32m----> 1\u001b[1;33m \u001b[1;34m\"35\"\u001b[0m \u001b[1;33m+\u001b[0m \u001b[1;36m67\u001b[0m\u001b[1;33m\u001b[0m\u001b[1;33m\u001b[0m\u001b[0m\n\u001b[0m",
            "\u001b[1;31mTypeError\u001b[0m: can only concatenate str (not \"int\") to str"
          ]
        }
      ]
    },
    {
      "cell_type": "code",
      "metadata": {
        "id": "_EzMFsTMGbw5",
        "outputId": "a108b5f4-8a4e-45fd-d72e-88835ca9250c"
      },
      "source": [
        "\"35\"*3 "
      ],
      "execution_count": null,
      "outputs": [
        {
          "output_type": "execute_result",
          "data": {
            "text/plain": [
              "'353535'"
            ]
          },
          "metadata": {
            "tags": []
          },
          "execution_count": 57
        }
      ]
    },
    {
      "cell_type": "code",
      "metadata": {
        "id": "X_FiEHA9GlUH",
        "outputId": "7658f393-591c-42a8-e7a4-6da00f9642ff"
      },
      "source": [
        "\"hello\"*4"
      ],
      "execution_count": null,
      "outputs": [
        {
          "output_type": "execute_result",
          "data": {
            "text/plain": [
              "'hellohellohellohello'"
            ]
          },
          "metadata": {
            "tags": []
          },
          "execution_count": 58
        }
      ]
    },
    {
      "cell_type": "code",
      "metadata": {
        "id": "zVujz21ZhAcg",
        "outputId": "1999c322-9a77-4e65-af6e-ce60f3814ae6"
      },
      "source": [
        "\"hello\" \"world\""
      ],
      "execution_count": null,
      "outputs": [
        {
          "output_type": "execute_result",
          "data": {
            "text/plain": [
              "'helloworld'"
            ]
          },
          "metadata": {
            "tags": []
          },
          "execution_count": 59
        }
      ]
    },
    {
      "cell_type": "code",
      "metadata": {
        "id": "qCIBU4v8HH3Y",
        "outputId": "670341ec-fe16-41bf-a2d5-475e616d48ee"
      },
      "source": [
        "x = 10\n",
        "\n",
        "print(x+2)\n",
        "print(x-2)\n",
        "print(x*2)\n",
        "print(x**2)\n",
        "print(x**4)\n",
        "print(x/2)\n",
        "print(x//2) \n",
        "print(x%2) "
      ],
      "execution_count": null,
      "outputs": [
        {
          "output_type": "stream",
          "text": [
            "12\n",
            "8\n",
            "20\n",
            "100\n",
            "10000\n",
            "5.0\n",
            "5\n",
            "0\n"
          ],
          "name": "stdout"
        }
      ]
    },
    {
      "cell_type": "code",
      "metadata": {
        "id": "imzLVXBYLNhW",
        "outputId": "62d0c4d4-9697-4118-81fe-cd9d1cb7032e"
      },
      "source": [
        "y = 13\n",
        "print(y/2)\n",
        "print(y//2)\n",
        "print(y % 2)"
      ],
      "execution_count": null,
      "outputs": [
        {
          "output_type": "stream",
          "text": [
            "6.5\n",
            "6\n",
            "1\n"
          ],
          "name": "stdout"
        }
      ]
    },
    {
      "cell_type": "code",
      "metadata": {
        "id": "21xH-WU1LhkS",
        "outputId": "646ef3b8-0b45-4e3d-9e51-359a9c4d1d52"
      },
      "source": [
        "z = 5\n",
        "z+=1 # this statement equals to z= z+1 , meaning while the previous value of z is 5, the new z value becomes 6. \n",
        "z"
      ],
      "execution_count": null,
      "outputs": [
        {
          "output_type": "execute_result",
          "data": {
            "text/plain": [
              "6"
            ]
          },
          "metadata": {
            "tags": []
          },
          "execution_count": 62
        }
      ]
    },
    {
      "cell_type": "code",
      "metadata": {
        "id": "nr-s8OwrhAch",
        "outputId": "fb928ab8-fe18-4b2b-d7d8-73fa3df70a67"
      },
      "source": [
        "z +=2 #z = z + 2\n",
        "z"
      ],
      "execution_count": null,
      "outputs": [
        {
          "output_type": "execute_result",
          "data": {
            "text/plain": [
              "8"
            ]
          },
          "metadata": {
            "tags": []
          },
          "execution_count": 63
        }
      ]
    },
    {
      "cell_type": "code",
      "metadata": {
        "id": "2HOE_xOGL3WQ",
        "outputId": "93fb3ace-c396-4d72-cada-485890312672"
      },
      "source": [
        "z*=2      # z = z * 2\n",
        "z"
      ],
      "execution_count": null,
      "outputs": [
        {
          "output_type": "execute_result",
          "data": {
            "text/plain": [
              "16"
            ]
          },
          "metadata": {
            "tags": []
          },
          "execution_count": 64
        }
      ]
    },
    {
      "cell_type": "markdown",
      "metadata": {
        "id": "IdTKuqyFmCN9"
      },
      "source": [
        "### Tür Dönüşümleri\n",
        "* str() \n",
        "* float() \n",
        "* int()"
      ]
    },
    {
      "cell_type": "code",
      "metadata": {
        "colab": {
          "base_uri": "https://localhost:8080/",
          "height": 52
        },
        "id": "OyY22MKZTp22",
        "outputId": "397e67bc-751e-4ef3-f0ec-3328c47df76d"
      },
      "source": [
        "print(world + str(len(world)))\n",
        "\n",
        "print(world + \" \" + str(len(world)))"
      ],
      "execution_count": null,
      "outputs": [
        {
          "output_type": "stream",
          "text": [
            "World5\n",
            "World 5\n"
          ],
          "name": "stdout"
        }
      ]
    },
    {
      "cell_type": "code",
      "metadata": {
        "id": "sYFsQbIamCN-",
        "outputId": "d99c5c18-0ab3-4a86-cb04-dd016d3a6d24"
      },
      "source": [
        "str(\"Python\")"
      ],
      "execution_count": null,
      "outputs": [
        {
          "output_type": "execute_result",
          "data": {
            "text/plain": [
              "'Python'"
            ]
          },
          "metadata": {
            "tags": []
          },
          "execution_count": 13
        }
      ]
    },
    {
      "cell_type": "code",
      "metadata": {
        "id": "zBJuLanemCN-",
        "outputId": "ac90a9cc-8604-4b74-d4cf-7ab382d1a257"
      },
      "source": [
        "float(5)"
      ],
      "execution_count": null,
      "outputs": [
        {
          "output_type": "execute_result",
          "data": {
            "text/plain": [
              "5.0"
            ]
          },
          "metadata": {
            "tags": []
          },
          "execution_count": 14
        }
      ]
    },
    {
      "cell_type": "code",
      "metadata": {
        "id": "Exznao8bmCN-",
        "outputId": "a929dc93-bc05-48dd-9a82-6d2cd84fb18d"
      },
      "source": [
        "type(5.0)"
      ],
      "execution_count": null,
      "outputs": [
        {
          "output_type": "execute_result",
          "data": {
            "text/plain": [
              "float"
            ]
          },
          "metadata": {
            "tags": []
          },
          "execution_count": 18
        }
      ]
    },
    {
      "cell_type": "code",
      "metadata": {
        "id": "XVv7MCTVmCN-",
        "outputId": "0001841a-4e3c-4174-e0e4-b04a320ea988"
      },
      "source": [
        "int(float(5.7))"
      ],
      "execution_count": null,
      "outputs": [
        {
          "output_type": "execute_result",
          "data": {
            "text/plain": [
              "5"
            ]
          },
          "metadata": {
            "tags": []
          },
          "execution_count": 19
        }
      ]
    },
    {
      "cell_type": "code",
      "metadata": {
        "id": "AZm-mbcmmCN_",
        "outputId": "6c5132a1-2708-4f62-ba9d-be11f8922042"
      },
      "source": [
        "float(\"6.2\")"
      ],
      "execution_count": null,
      "outputs": [
        {
          "output_type": "execute_result",
          "data": {
            "text/plain": [
              "6.2"
            ]
          },
          "metadata": {
            "tags": []
          },
          "execution_count": 20
        }
      ]
    },
    {
      "cell_type": "code",
      "metadata": {
        "id": "yZRZLgscmCN_",
        "outputId": "1a590824-2af4-476b-e4bc-cf171c4f53ae"
      },
      "source": [
        "float(\"Hello\")"
      ],
      "execution_count": null,
      "outputs": [
        {
          "output_type": "error",
          "ename": "ValueError",
          "evalue": "could not convert string to float: 'Hello'",
          "traceback": [
            "\u001b[1;31m---------------------------------------------------------------------------\u001b[0m",
            "\u001b[1;31mValueError\u001b[0m                                Traceback (most recent call last)",
            "\u001b[1;32m<ipython-input-21-ff6885467a56>\u001b[0m in \u001b[0;36m<module>\u001b[1;34m\u001b[0m\n\u001b[1;32m----> 1\u001b[1;33m \u001b[0mfloat\u001b[0m\u001b[1;33m(\u001b[0m\u001b[1;34m\"Hello\"\u001b[0m\u001b[1;33m)\u001b[0m\u001b[1;33m\u001b[0m\u001b[1;33m\u001b[0m\u001b[0m\n\u001b[0m",
            "\u001b[1;31mValueError\u001b[0m: could not convert string to float: 'Hello'"
          ]
        }
      ]
    },
    {
      "cell_type": "code",
      "metadata": {
        "id": "QNftrnEfmCN_",
        "outputId": "d5ff8046-11d6-4c87-a64b-846f824961a6"
      },
      "source": [
        "int(5.5)"
      ],
      "execution_count": null,
      "outputs": [
        {
          "output_type": "execute_result",
          "data": {
            "text/plain": [
              "5"
            ]
          },
          "metadata": {
            "tags": []
          },
          "execution_count": 24
        }
      ]
    },
    {
      "cell_type": "markdown",
      "metadata": {
        "id": "0txXkvbamCN_"
      },
      "source": [
        "### İndexleme ve Dilimleme"
      ]
    },
    {
      "cell_type": "code",
      "metadata": {
        "colab": {
          "base_uri": "https://localhost:8080/",
          "height": 52
        },
        "id": "vZjNAoLVR5U0",
        "outputId": "b83516d1-3a99-43b6-e0ff-b1b37ddaf30b"
      },
      "source": [
        "hello = \"Hello\"\n",
        "print(hello)\n",
        "print(hello[0])\n",
        "print(hello[1])\n",
        "print(hello[2])\n",
        "print(hello[3])\n",
        "print(hello[4])"
      ],
      "execution_count": null,
      "outputs": [
        {
          "output_type": "stream",
          "text": [
            "Hello\n",
            "H\n",
            "e\n",
            "l\n",
            "l\n",
            "o\n"
          ],
          "name": "stdout"
        }
      ]
    },
    {
      "cell_type": "code",
      "metadata": {
        "id": "HQoj_jsUmCOA",
        "outputId": "bd1b5902-5383-4774-906b-d7bd3550a62c"
      },
      "source": [
        "hello2 = \" Hello\"\n",
        "hello2[0]"
      ],
      "execution_count": null,
      "outputs": [
        {
          "output_type": "execute_result",
          "data": {
            "text/plain": [
              "' '"
            ]
          },
          "metadata": {
            "tags": []
          },
          "execution_count": 40
        }
      ]
    },
    {
      "cell_type": "code",
      "metadata": {
        "id": "3CUMwNM_mCOA",
        "outputId": "bcf7a672-9e60-4835-fc4c-075acd43ba9b"
      },
      "source": [
        "print(hello[5])"
      ],
      "execution_count": null,
      "outputs": [
        {
          "output_type": "error",
          "ename": "IndexError",
          "evalue": "string index out of range",
          "traceback": [
            "\u001b[1;31m---------------------------------------------------------------------------\u001b[0m",
            "\u001b[1;31mIndexError\u001b[0m                                Traceback (most recent call last)",
            "\u001b[1;32m<ipython-input-46-d8090546c4b7>\u001b[0m in \u001b[0;36m<module>\u001b[1;34m\u001b[0m\n\u001b[1;32m----> 1\u001b[1;33m \u001b[0mprint\u001b[0m\u001b[1;33m(\u001b[0m\u001b[0mhello\u001b[0m\u001b[1;33m[\u001b[0m\u001b[1;36m5\u001b[0m\u001b[1;33m]\u001b[0m\u001b[1;33m)\u001b[0m\u001b[1;33m\u001b[0m\u001b[1;33m\u001b[0m\u001b[0m\n\u001b[0m",
            "\u001b[1;31mIndexError\u001b[0m: string index out of range"
          ]
        }
      ]
    },
    {
      "cell_type": "code",
      "metadata": {
        "colab": {
          "base_uri": "https://localhost:8080/",
          "height": 52
        },
        "id": "obQknvFZWF5t",
        "outputId": "42f6445b-61da-4e85-bb2a-016affe64473"
      },
      "source": [
        "print(world)\n",
        "print(world[-1])\n",
        "print(world[-3])\n",
        "print(world[-5])"
      ],
      "execution_count": null,
      "outputs": [
        {
          "output_type": "stream",
          "text": [
            "World\n",
            "d\n",
            "r\n",
            "W\n"
          ],
          "name": "stdout"
        }
      ]
    },
    {
      "cell_type": "code",
      "metadata": {
        "colab": {
          "base_uri": "https://localhost:8080/",
          "height": 35
        },
        "id": "0zG_UBbW_SFu",
        "outputId": "dcdfe71b-cc4b-47a9-b358-3c943ec4ce14"
      },
      "source": [
        "job = \" Engineering\"\n",
        "\n",
        "print(job[-5])"
      ],
      "execution_count": null,
      "outputs": [
        {
          "output_type": "stream",
          "text": [
            "e\n"
          ],
          "name": "stdout"
        }
      ]
    },
    {
      "cell_type": "code",
      "metadata": {
        "id": "Scvqz7-FmCOB",
        "outputId": "8d022f37-8ccd-464c-e3fb-c9507f7503a0"
      },
      "source": [
        "print(hello)"
      ],
      "execution_count": null,
      "outputs": [
        {
          "output_type": "stream",
          "text": [
            "Hello\n"
          ],
          "name": "stdout"
        }
      ]
    },
    {
      "cell_type": "code",
      "metadata": {
        "id": "uTZeixoumCOB",
        "outputId": "ab7bcd16-6b04-43b0-b1d4-6081c2ba1d96"
      },
      "source": [
        "hello"
      ],
      "execution_count": null,
      "outputs": [
        {
          "output_type": "execute_result",
          "data": {
            "text/plain": [
              "'Hello'"
            ]
          },
          "metadata": {
            "tags": []
          },
          "execution_count": 56
        }
      ]
    },
    {
      "cell_type": "code",
      "metadata": {
        "colab": {
          "base_uri": "https://localhost:8080/",
          "height": 36
        },
        "id": "1gW2be5tWek7",
        "outputId": "5e6924aa-4888-4ae0-934b-3c7392758241"
      },
      "source": [
        "hello[2:4]  # [x:y] --> take the values from x th to y th but don't take y th value. "
      ],
      "execution_count": null,
      "outputs": [
        {
          "output_type": "execute_result",
          "data": {
            "text/plain": [
              "'ll'"
            ]
          },
          "metadata": {
            "tags": []
          },
          "execution_count": 32
        }
      ]
    },
    {
      "cell_type": "code",
      "metadata": {
        "id": "iJsJleJVmCOB",
        "outputId": "a7159b66-bc9b-49f6-d362-148244fbf571"
      },
      "source": [
        "world"
      ],
      "execution_count": null,
      "outputs": [
        {
          "output_type": "execute_result",
          "data": {
            "text/plain": [
              "'World'"
            ]
          },
          "metadata": {
            "tags": []
          },
          "execution_count": 57
        }
      ]
    },
    {
      "cell_type": "code",
      "metadata": {
        "colab": {
          "base_uri": "https://localhost:8080/",
          "height": 36
        },
        "id": "DFxoKm3daCMP",
        "outputId": "2cecfa05-e063-427b-8293-a42644f1bbf8"
      },
      "source": [
        "world[1:4]"
      ],
      "execution_count": null,
      "outputs": [
        {
          "output_type": "execute_result",
          "data": {
            "text/plain": [
              "'orl'"
            ]
          },
          "metadata": {
            "tags": []
          },
          "execution_count": 34
        }
      ]
    },
    {
      "cell_type": "code",
      "metadata": {
        "colab": {
          "base_uri": "https://localhost:8080/",
          "height": 52
        },
        "id": "aJ4PKy8TaHpD",
        "outputId": "b5a426b5-b4c2-4d0f-a287-fd65dbab2fcd"
      },
      "source": [
        "print(world[3:5])\n",
        "\n",
        "print(world[3:])"
      ],
      "execution_count": null,
      "outputs": [
        {
          "output_type": "stream",
          "text": [
            "ld\n",
            "ld\n"
          ],
          "name": "stdout"
        }
      ]
    },
    {
      "cell_type": "code",
      "metadata": {
        "colab": {
          "base_uri": "https://localhost:8080/",
          "height": 36
        },
        "id": "4d12Mq3n03zL",
        "outputId": "672fca35-08f1-4386-b434-a1823d4b643a"
      },
      "source": [
        "hello[::-1] "
      ],
      "execution_count": null,
      "outputs": [
        {
          "output_type": "execute_result",
          "data": {
            "text/plain": [
              "'olleH'"
            ]
          },
          "metadata": {
            "tags": []
          },
          "execution_count": 62
        }
      ]
    },
    {
      "cell_type": "code",
      "metadata": {
        "id": "XxKt6pqvmCOC",
        "outputId": "3bd7eae4-a648-4255-dbcd-881b9d980d94"
      },
      "source": [
        "world"
      ],
      "execution_count": null,
      "outputs": [
        {
          "output_type": "execute_result",
          "data": {
            "text/plain": [
              "'World'"
            ]
          },
          "metadata": {
            "tags": []
          },
          "execution_count": 70
        }
      ]
    },
    {
      "cell_type": "code",
      "metadata": {
        "colab": {
          "base_uri": "https://localhost:8080/",
          "height": 36
        },
        "id": "vG076dUoalJq",
        "outputId": "7ce2e41d-0229-42fb-aec3-85be28b60e8c"
      },
      "source": [
        "world[:-3]"
      ],
      "execution_count": null,
      "outputs": [
        {
          "output_type": "execute_result",
          "data": {
            "text/plain": [
              "'Wo'"
            ]
          },
          "metadata": {
            "tags": []
          },
          "execution_count": 39
        }
      ]
    },
    {
      "cell_type": "code",
      "metadata": {
        "colab": {
          "base_uri": "https://localhost:8080/",
          "height": 36
        },
        "id": "3hrKJQS2a6A5",
        "outputId": "af5ea94b-1820-4870-f0e7-5459cefa4580"
      },
      "source": [
        "world[2:4:1]   # [start:end:step]"
      ],
      "execution_count": null,
      "outputs": [
        {
          "output_type": "execute_result",
          "data": {
            "text/plain": [
              "'rl'"
            ]
          },
          "metadata": {
            "tags": []
          },
          "execution_count": 76
        }
      ]
    },
    {
      "cell_type": "code",
      "metadata": {
        "colab": {
          "base_uri": "https://localhost:8080/",
          "height": 36
        },
        "id": "1Kgd14H_bNAj",
        "outputId": "32cc0fb4-0b01-4b08-e2c2-468afd327192"
      },
      "source": [
        "city = \"istanbul\"\n",
        "city[0:6:2]"
      ],
      "execution_count": null,
      "outputs": [
        {
          "output_type": "execute_result",
          "data": {
            "text/plain": [
              "'itn'"
            ]
          },
          "metadata": {
            "tags": []
          },
          "execution_count": 78
        }
      ]
    },
    {
      "cell_type": "code",
      "metadata": {
        "colab": {
          "base_uri": "https://localhost:8080/"
        },
        "id": "az6ygCGue2sY",
        "outputId": "c21833dc-5e39-487a-c54b-de5eb37f8da3"
      },
      "source": [
        "word = 'machine learning'\n",
        "print(word.capitalize())"
      ],
      "execution_count": null,
      "outputs": [
        {
          "output_type": "stream",
          "text": [
            "Machine learning\n"
          ],
          "name": "stdout"
        }
      ]
    },
    {
      "cell_type": "code",
      "metadata": {
        "colab": {
          "base_uri": "https://localhost:8080/"
        },
        "id": "3nF1ST9UfCGu",
        "outputId": "ec8ea76a-c6d9-4f08-e96d-45f59929ff4f"
      },
      "source": [
        "print(word.upper())"
      ],
      "execution_count": null,
      "outputs": [
        {
          "output_type": "stream",
          "text": [
            "MACHINE LEARNING\n"
          ],
          "name": "stdout"
        }
      ]
    },
    {
      "cell_type": "code",
      "metadata": {
        "colab": {
          "base_uri": "https://localhost:8080/"
        },
        "id": "9r6KvgMYfiVQ",
        "outputId": "3786229d-6d38-46a5-d4ce-9b11500cf3c0"
      },
      "source": [
        "print(word.replace('machine','artificial'))"
      ],
      "execution_count": null,
      "outputs": [
        {
          "output_type": "stream",
          "text": [
            "artificial learning\n"
          ],
          "name": "stdout"
        }
      ]
    },
    {
      "cell_type": "code",
      "metadata": {
        "colab": {
          "base_uri": "https://localhost:8080/",
          "height": 35
        },
        "id": "TjnWT_9Zfs2r",
        "outputId": "e6f98842-cd3d-43ad-be99-51c7fb1e9259"
      },
      "source": [
        "word"
      ],
      "execution_count": null,
      "outputs": [
        {
          "output_type": "execute_result",
          "data": {
            "application/vnd.google.colaboratory.intrinsic+json": {
              "type": "string"
            },
            "text/plain": [
              "'machine learning'"
            ]
          },
          "metadata": {
            "tags": []
          },
          "execution_count": 23
        }
      ]
    },
    {
      "cell_type": "code",
      "metadata": {
        "colab": {
          "base_uri": "https://localhost:8080/"
        },
        "id": "H1WYJsidfw-G",
        "outputId": "03753562-0953-4442-c3c0-c3813ae5d514"
      },
      "source": [
        "word2 = \"          artificial general      intelligence\"\n",
        "print(word2.strip())"
      ],
      "execution_count": null,
      "outputs": [
        {
          "output_type": "stream",
          "text": [
            "artificial general      intelligence\n"
          ],
          "name": "stdout"
        }
      ]
    },
    {
      "cell_type": "code",
      "metadata": {
        "colab": {
          "base_uri": "https://localhost:8080/",
          "height": 52
        },
        "id": "Voc6zKLzhlmv",
        "outputId": "66172d30-b869-4639-c287-d650203829d5"
      },
      "source": [
        "y = input(\"Please enter a city name: \")  #input method always takes string type. \n",
        "print(y)"
      ],
      "execution_count": null,
      "outputs": [
        {
          "output_type": "stream",
          "text": [
            "Please enter a city name: 555\n",
            "555\n"
          ],
          "name": "stdout"
        }
      ]
    },
    {
      "cell_type": "code",
      "metadata": {
        "id": "Wey_2y-3mCOG",
        "outputId": "9464480a-912f-48a0-8e48-fa008870d355"
      },
      "source": [
        "type(y)"
      ],
      "execution_count": null,
      "outputs": [
        {
          "output_type": "execute_result",
          "data": {
            "text/plain": [
              "str"
            ]
          },
          "metadata": {
            "tags": []
          },
          "execution_count": 3
        }
      ]
    },
    {
      "cell_type": "code",
      "metadata": {
        "colab": {
          "base_uri": "https://localhost:8080/",
          "height": 52
        },
        "id": "3zyJI9oljhQi",
        "outputId": "5d71d13a-944d-4e1a-fa22-a3a3f270cd55"
      },
      "source": [
        "x = int(input(\"Please enter an integer: \"))\n",
        "print(x)"
      ],
      "execution_count": null,
      "outputs": [
        {
          "output_type": "stream",
          "text": [
            "Please enter an integer: 4.3\n"
          ],
          "name": "stdout"
        },
        {
          "output_type": "error",
          "ename": "ValueError",
          "evalue": "invalid literal for int() with base 10: '4.3'",
          "traceback": [
            "\u001b[1;31m---------------------------------------------------------------------------\u001b[0m",
            "\u001b[1;31mValueError\u001b[0m                                Traceback (most recent call last)",
            "\u001b[1;32m<ipython-input-7-614cd690396c>\u001b[0m in \u001b[0;36m<module>\u001b[1;34m\u001b[0m\n\u001b[1;32m----> 1\u001b[1;33m \u001b[0mx\u001b[0m \u001b[1;33m=\u001b[0m \u001b[0mint\u001b[0m\u001b[1;33m(\u001b[0m\u001b[0minput\u001b[0m\u001b[1;33m(\u001b[0m\u001b[1;34m\"Please enter an integer: \"\u001b[0m\u001b[1;33m)\u001b[0m\u001b[1;33m)\u001b[0m\u001b[1;33m\u001b[0m\u001b[1;33m\u001b[0m\u001b[0m\n\u001b[0m\u001b[0;32m      2\u001b[0m \u001b[0mprint\u001b[0m\u001b[1;33m(\u001b[0m\u001b[0mx\u001b[0m\u001b[1;33m)\u001b[0m\u001b[1;33m\u001b[0m\u001b[1;33m\u001b[0m\u001b[0m\n",
            "\u001b[1;31mValueError\u001b[0m: invalid literal for int() with base 10: '4.3'"
          ]
        }
      ]
    },
    {
      "cell_type": "code",
      "metadata": {
        "id": "570NLil5mCOH",
        "outputId": "265539b1-0520-4835-b8f0-bc1fcb0b7538"
      },
      "source": [
        "type(x)"
      ],
      "execution_count": null,
      "outputs": [
        {
          "output_type": "execute_result",
          "data": {
            "text/plain": [
              "int"
            ]
          },
          "metadata": {
            "tags": []
          },
          "execution_count": 5
        }
      ]
    },
    {
      "cell_type": "markdown",
      "metadata": {
        "id": "Uqstf6kg1CCT"
      },
      "source": [
        "### If/Else Durumları\n",
        "\n",
        "if \"condition\":\n",
        "\n",
        "\n",
        "> \"doing sth\"\n",
        "\n",
        "print()\n"
      ]
    },
    {
      "cell_type": "code",
      "metadata": {
        "colab": {
          "base_uri": "https://localhost:8080/"
        },
        "id": "8E_cCL6adJSR",
        "outputId": "a0d9bd03-a30c-402d-d0b8-ece820d952d9"
      },
      "source": [
        "ort = input('Ortalamanızı Girin : ')\r\n",
        "if(int(ort)>=50):\r\n",
        "      print(\"Geçtiniz\")\r\n",
        "else:\r\n",
        "      print(\"Kaldınız\")"
      ],
      "execution_count": null,
      "outputs": [
        {
          "output_type": "stream",
          "text": [
            "Ortalamanızı Girin : 50\n",
            "Geçtiniz\n"
          ],
          "name": "stdout"
        }
      ]
    },
    {
      "cell_type": "code",
      "metadata": {
        "id": "aQww_2VKeWbd",
        "colab": {
          "base_uri": "https://localhost:8080/"
        },
        "outputId": "07565a4b-6697-41b2-fb92-c7082bf4e20e"
      },
      "source": [
        "sayi = input('Sayı : ')\r\n",
        "if(int(sayi)%2==0):\r\n",
        "      print(\"Sayı Çift\")\r\n",
        "else:\r\n",
        "      print(\"Sayı Tek\")"
      ],
      "execution_count": null,
      "outputs": [
        {
          "output_type": "stream",
          "text": [
            "Sayı : 5\n",
            "Sayı Tek\n"
          ],
          "name": "stdout"
        }
      ]
    },
    {
      "cell_type": "code",
      "metadata": {
        "id": "1gdtAyGZ1MTD",
        "colab": {
          "base_uri": "https://localhost:8080/"
        },
        "outputId": "556f2f89-0895-4e63-9a6c-1d8c65f94d54"
      },
      "source": [
        "a = int(input(\"Bir sayı giriniz: \"))\n",
        "\n",
        "if a < 100:\n",
        "    print(\"verdiğiniz sayı 100'den küçüktür.\")\n",
        "\n",
        "elif a < 50:\n",
        "    print(\"verdiğiniz sayı 50'den küçüktür.\")\n",
        "\n",
        "elif a == 100:\n",
        "    print(\"verdiğiniz sayı 100'dür.\")\n",
        "\n",
        "elif a > 150:\n",
        "    print(\"verdiğiniz sayı 150'den büyüktür.\")\n",
        "\n",
        "elif a > 100:\n",
        "    print(\"verdiğiniz sayı 100'den büyüktür.\")"
      ],
      "execution_count": null,
      "outputs": [
        {
          "output_type": "stream",
          "text": [
            "Bir sayı giriniz: 6\n",
            "Girdiğiniz sayı 10'dan küçüktür!\n"
          ],
          "name": "stdout"
        }
      ]
    },
    {
      "cell_type": "code",
      "metadata": {
        "id": "3hmeanZ757dR",
        "outputId": "bc5b4b84-706d-47f4-935f-8ce49f3928b6"
      },
      "source": [
        "kullanıcı_adı = input(\"Kullanıcı adınız: \")\n",
        "parola        = input(\"Parolanız       : \")\n",
        "\n",
        "toplam_uzunluk = len(kullanıcı_adı) + len(parola)\n",
        "\n",
        "\n",
        "if toplam_uzunluk > 40:\n",
        "    print(\"Kullanıcı adınız ile parolanızın \",\n",
        "          \"toplam uzunluğu 40 karakteri geçmemeli!\")\n",
        "else:\n",
        "    print(\"Sisteme hoşgeldiniz!\")"
      ],
      "execution_count": null,
      "outputs": [
        {
          "output_type": "stream",
          "text": [
            "Please enter a character: u\n",
            "Don't exist...\n"
          ],
          "name": "stdout"
        }
      ]
    },
    {
      "cell_type": "code",
      "metadata": {
        "id": "LDREVIqOmCOR"
      },
      "source": [
        ""
      ],
      "execution_count": null,
      "outputs": []
    },
    {
      "cell_type": "markdown",
      "metadata": {
        "id": "zvyKibr2vVNm"
      },
      "source": [
        "### Liste (list)\r\n",
        "Python list, yani liste, herhangi bir sayıda diğer objeleri içinde bulunduran bir sandık vazifesi görüyor. Diğer dillerdeki listelerden en önemli farkı ise, bir listede birden fazla tip öğenin yanyana bulunabilmesi. Diğer konteynır tarzı objelerden farkı ise, listeler değişebilir (mutable) olması ve sıralı olması diyebiliriz. Diğer konteynırlar nedir derseniz, kümeler (set) ve sözlükler (dict) bunlara örnek olarak gösterilebilir."
      ]
    },
    {
      "cell_type": "code",
      "metadata": {
        "colab": {
          "base_uri": "https://localhost:8080/",
          "height": 35
        },
        "id": "njA7EYZGv07w",
        "scrolled": true,
        "outputId": "39d8d67d-578a-46c7-c3b3-275d39a06063"
      },
      "source": [
        " # creating a list\n",
        "mylist = [3,5,6,7]\n",
        "print(mylist) "
      ],
      "execution_count": null,
      "outputs": [
        {
          "output_type": "stream",
          "text": [
            "[3, 5, 6, 7]\n"
          ],
          "name": "stdout"
        }
      ]
    },
    {
      "cell_type": "code",
      "metadata": {
        "id": "MxsQ4t8pmCOI",
        "outputId": "8792d3d6-c5ba-474c-c038-78900e37dd5b"
      },
      "source": [
        "type(mylist)"
      ],
      "execution_count": null,
      "outputs": [
        {
          "output_type": "execute_result",
          "data": {
            "text/plain": [
              "list"
            ]
          },
          "metadata": {
            "tags": []
          },
          "execution_count": 15
        }
      ]
    },
    {
      "cell_type": "code",
      "metadata": {
        "colab": {
          "base_uri": "https://localhost:8080/",
          "height": 88
        },
        "id": "hQhGEzmPwgQ2",
        "outputId": "66c861e8-e948-405b-e8cf-d6f25a72f8b4"
      },
      "source": [
        "print(mylist[0])\n",
        "print(mylist[2])\n",
        "print(mylist[-1])\n",
        "print(mylist[-3])"
      ],
      "execution_count": null,
      "outputs": [
        {
          "output_type": "stream",
          "text": [
            "3\n",
            "6\n",
            "7\n",
            "5\n"
          ],
          "name": "stdout"
        }
      ]
    },
    {
      "cell_type": "code",
      "metadata": {
        "id": "VQ7gQ-2kmCOI",
        "outputId": "8b10a531-cb4a-446b-faa9-fd0ff2169bbd"
      },
      "source": [
        "a = 5\n",
        "print(a)"
      ],
      "execution_count": null,
      "outputs": [
        {
          "output_type": "stream",
          "text": [
            "5\n"
          ],
          "name": "stdout"
        }
      ]
    },
    {
      "cell_type": "code",
      "metadata": {
        "id": "Z0v9ZqhNmCOI",
        "outputId": "b79881b5-0cb6-4793-ce52-8094e4020a2e"
      },
      "source": [
        "a = 3\n",
        "print(a)"
      ],
      "execution_count": null,
      "outputs": [
        {
          "output_type": "stream",
          "text": [
            "3\n"
          ],
          "name": "stdout"
        }
      ]
    },
    {
      "cell_type": "code",
      "metadata": {
        "colab": {
          "base_uri": "https://localhost:8080/",
          "height": 35
        },
        "id": "ngPWrPA_w3gG",
        "outputId": "082ef017-93ad-4aea-ceee-f6673380cbce"
      },
      "source": [
        "mylist[2] = \"python\"   # lists can be taken different types of data\n",
        "print(mylist)"
      ],
      "execution_count": null,
      "outputs": [
        {
          "output_type": "stream",
          "text": [
            "[3, 5, 'python', 7]\n"
          ],
          "name": "stdout"
        }
      ]
    },
    {
      "cell_type": "code",
      "metadata": {
        "colab": {
          "base_uri": "https://localhost:8080/",
          "height": 35
        },
        "id": "hI6Wz-NWxMuG",
        "outputId": "bcfe22a8-4dd6-4484-93ea-352d475abf2a"
      },
      "source": [
        "mylist.append('course')  # append(): adding some items end of the list \n",
        "print(mylist)"
      ],
      "execution_count": null,
      "outputs": [
        {
          "output_type": "stream",
          "text": [
            "[3, 5, 'python', 7, 'course', 'course', 'course']\n"
          ],
          "name": "stdout"
        }
      ]
    },
    {
      "cell_type": "code",
      "metadata": {
        "colab": {
          "base_uri": "https://localhost:8080/",
          "height": 70
        },
        "id": "dqz8xPRgxdHU",
        "outputId": "d87f772f-2dc6-4864-cb82-f83e3320a71b"
      },
      "source": [
        "mylist = [3,4,5,6,7]\n",
        "mylist.append('course')\n",
        "mylist.append('course')\n",
        "print(mylist)\n",
        "\n",
        "thelast = mylist.pop()  # pop(): removing the last item of the list \n",
        "print(thelast)\n",
        "print(mylist)"
      ],
      "execution_count": null,
      "outputs": [
        {
          "output_type": "stream",
          "text": [
            "[3, 4, 5, 6, 7, 'course', 'course']\n",
            "course\n",
            "[3, 4, 5, 6, 7, 'course']\n"
          ],
          "name": "stdout"
        }
      ]
    },
    {
      "cell_type": "code",
      "metadata": {
        "id": "HpPBYsAzmCOJ",
        "outputId": "87c81b83-c3a4-4197-8db7-feb3c42983a2"
      },
      "source": [
        "mylist"
      ],
      "execution_count": null,
      "outputs": [
        {
          "output_type": "execute_result",
          "data": {
            "text/plain": [
              "[3, 4, 5, 6, 7, 'course']"
            ]
          },
          "metadata": {
            "tags": []
          },
          "execution_count": 27
        }
      ]
    },
    {
      "cell_type": "code",
      "metadata": {
        "colab": {
          "base_uri": "https://localhost:8080/",
          "height": 35
        },
        "id": "Dt0ef3SiyJng",
        "outputId": "5c4b09a6-4918-4393-e8ff-5ab2be38f39e"
      },
      "source": [
        "mylist.index(\"course\")"
      ],
      "execution_count": null,
      "outputs": [
        {
          "output_type": "execute_result",
          "data": {
            "text/plain": [
              "5"
            ]
          },
          "metadata": {
            "tags": []
          },
          "execution_count": 28
        }
      ]
    },
    {
      "cell_type": "code",
      "metadata": {
        "colab": {
          "base_uri": "https://localhost:8080/",
          "height": 35
        },
        "id": "r1A4DZ4syQtk",
        "outputId": "c013fbaf-b73e-4a25-8d56-d94452ee75db"
      },
      "source": [
        "mylist.index(4)"
      ],
      "execution_count": null,
      "outputs": [
        {
          "output_type": "execute_result",
          "data": {
            "text/plain": [
              "1"
            ]
          },
          "metadata": {
            "tags": []
          },
          "execution_count": 29
        }
      ]
    },
    {
      "cell_type": "code",
      "metadata": {
        "colab": {
          "base_uri": "https://localhost:8080/",
          "height": 35
        },
        "id": "iFn2-UYKyWCZ",
        "outputId": "7b69fee3-6725-46e4-8417-b6e25b3c93f7"
      },
      "source": [
        "mylist.count(\"course\")"
      ],
      "execution_count": null,
      "outputs": [
        {
          "output_type": "execute_result",
          "data": {
            "text/plain": [
              "1"
            ]
          },
          "metadata": {
            "tags": []
          },
          "execution_count": 30
        }
      ]
    },
    {
      "cell_type": "code",
      "metadata": {
        "id": "PXBtBlAXmCOK",
        "outputId": "b56680a2-f0d2-4bb5-9929-27a0fb995644"
      },
      "source": [
        "list2 = [\"Python\",\"Java\",\"R\",\"JavaScript\",\"Ruby\",\"Python\",\"Python\"]\n",
        "list2.count(\"Python\")\n"
      ],
      "execution_count": null,
      "outputs": [
        {
          "output_type": "execute_result",
          "data": {
            "text/plain": [
              "3"
            ]
          },
          "metadata": {
            "tags": []
          },
          "execution_count": 32
        }
      ]
    },
    {
      "cell_type": "code",
      "metadata": {
        "id": "58nCPJ27mCOK",
        "outputId": "c3dec45d-c8b3-4e0b-a750-f3fb225533e3"
      },
      "source": [
        "mylist"
      ],
      "execution_count": null,
      "outputs": [
        {
          "output_type": "execute_result",
          "data": {
            "text/plain": [
              "[3, 4, 5, 6, 7, 'course']"
            ]
          },
          "metadata": {
            "tags": []
          },
          "execution_count": 33
        }
      ]
    },
    {
      "cell_type": "code",
      "metadata": {
        "colab": {
          "base_uri": "https://localhost:8080/",
          "height": 35
        },
        "id": "46qXsaPbyowR",
        "outputId": "09b1b5c5-b4d3-4ea5-a57f-106aa4a69109"
      },
      "source": [
        "mylist.remove(\"course\")\n",
        "print(mylist)"
      ],
      "execution_count": null,
      "outputs": [
        {
          "output_type": "stream",
          "text": [
            "[3, 4, 5, 6, 7]\n"
          ],
          "name": "stdout"
        }
      ]
    },
    {
      "cell_type": "code",
      "metadata": {
        "colab": {
          "base_uri": "https://localhost:8080/",
          "height": 186
        },
        "id": "UlKtby-1zYVT",
        "outputId": "a3c9e296-ea13-46c8-da73-9418ed3ac895"
      },
      "source": [
        "mylist.sort()\n",
        "mylist"
      ],
      "execution_count": null,
      "outputs": [
        {
          "output_type": "execute_result",
          "data": {
            "text/plain": [
              "[3, 4, 5, 6, 7]"
            ]
          },
          "metadata": {
            "tags": []
          },
          "execution_count": 35
        }
      ]
    },
    {
      "cell_type": "code",
      "metadata": {
        "id": "Kdqlr7yQmCOL"
      },
      "source": [
        "list3 = [100,23,87,13,1000]"
      ],
      "execution_count": null,
      "outputs": []
    },
    {
      "cell_type": "code",
      "metadata": {
        "id": "ZECprhx7mCOL",
        "outputId": "5f563953-438c-4755-caaa-e283d8cfea3d"
      },
      "source": [
        "list3.sort()\n",
        "list3"
      ],
      "execution_count": null,
      "outputs": [
        {
          "output_type": "execute_result",
          "data": {
            "text/plain": [
              "[13, 23, 87, 100, 1000]"
            ]
          },
          "metadata": {
            "tags": []
          },
          "execution_count": 37
        }
      ]
    },
    {
      "cell_type": "code",
      "metadata": {
        "colab": {
          "base_uri": "https://localhost:8080/"
        },
        "id": "cNauyviRmCOL",
        "outputId": "01dfba13-4113-45aa-ef19-3e738a4da48d"
      },
      "source": [
        "list4 = [41,23,78,99,37,2.9,2.8]\n",
        "list4.sort()\n",
        "list4"
      ],
      "execution_count": null,
      "outputs": [
        {
          "output_type": "execute_result",
          "data": {
            "text/plain": [
              "[2.8, 2.9, 23, 37, 41, 78, 99]"
            ]
          },
          "metadata": {
            "tags": []
          },
          "execution_count": 2
        }
      ]
    },
    {
      "cell_type": "code",
      "metadata": {
        "colab": {
          "base_uri": "https://localhost:8080/"
        },
        "id": "6E5ZHeormCOM",
        "outputId": "ecfbbe8b-bfb6-49b0-ad76-425e28a3de9e"
      },
      "source": [
        "list4.remove()\r\n"
      ],
      "execution_count": null,
      "outputs": [
        {
          "output_type": "execute_result",
          "data": {
            "text/plain": [
              "[2.9, 23, 41, 78, 99]"
            ]
          },
          "metadata": {
            "tags": []
          },
          "execution_count": 6
        }
      ]
    },
    {
      "cell_type": "code",
      "metadata": {
        "id": "Ks3NHMA_mCOM",
        "outputId": "8e877291-6d74-4154-a8f6-2efaf6a36260"
      },
      "source": [
        "list5 = [41,23,78,99,37,'python']\n",
        "list5.sort()\n",
        "list5"
      ],
      "execution_count": null,
      "outputs": [
        {
          "output_type": "error",
          "ename": "TypeError",
          "evalue": "'<' not supported between instances of 'str' and 'int'",
          "traceback": [
            "\u001b[1;31m---------------------------------------------------------------------------\u001b[0m",
            "\u001b[1;31mTypeError\u001b[0m                                 Traceback (most recent call last)",
            "\u001b[1;32m<ipython-input-124-05f8850dd456>\u001b[0m in \u001b[0;36m<module>\u001b[1;34m\u001b[0m\n\u001b[0;32m      1\u001b[0m \u001b[0mlist5\u001b[0m \u001b[1;33m=\u001b[0m \u001b[1;33m[\u001b[0m\u001b[1;36m41\u001b[0m\u001b[1;33m,\u001b[0m\u001b[1;36m23\u001b[0m\u001b[1;33m,\u001b[0m\u001b[1;36m78\u001b[0m\u001b[1;33m,\u001b[0m\u001b[1;36m99\u001b[0m\u001b[1;33m,\u001b[0m\u001b[1;36m37\u001b[0m\u001b[1;33m,\u001b[0m\u001b[1;34m'python'\u001b[0m\u001b[1;33m]\u001b[0m\u001b[1;33m\u001b[0m\u001b[1;33m\u001b[0m\u001b[0m\n\u001b[1;32m----> 2\u001b[1;33m \u001b[0mlist5\u001b[0m\u001b[1;33m.\u001b[0m\u001b[0msort\u001b[0m\u001b[1;33m(\u001b[0m\u001b[1;33m)\u001b[0m\u001b[1;33m\u001b[0m\u001b[1;33m\u001b[0m\u001b[0m\n\u001b[0m\u001b[0;32m      3\u001b[0m \u001b[0mlist5\u001b[0m\u001b[1;33m\u001b[0m\u001b[1;33m\u001b[0m\u001b[0m\n",
            "\u001b[1;31mTypeError\u001b[0m: '<' not supported between instances of 'str' and 'int'"
          ]
        }
      ]
    },
    {
      "cell_type": "code",
      "metadata": {
        "id": "5lcp5UifmCOM",
        "outputId": "1c583731-dda4-457c-d325-21a0e682fbf9"
      },
      "source": [
        "mylist"
      ],
      "execution_count": null,
      "outputs": [
        {
          "output_type": "execute_result",
          "data": {
            "text/plain": [
              "[3, 4, 5, 6, 7]"
            ]
          },
          "metadata": {
            "tags": []
          },
          "execution_count": 41
        }
      ]
    },
    {
      "cell_type": "code",
      "metadata": {
        "colab": {
          "base_uri": "https://localhost:8080/",
          "height": 35
        },
        "id": "E26Vtqlyzfal",
        "outputId": "fe9b0ac7-0547-48b7-9379-4eee55b7c736"
      },
      "source": [
        "mylist.remove(\"course\")\n",
        "mylist.remove(\"python\")\n",
        "print(mylist)"
      ],
      "execution_count": null,
      "outputs": [
        {
          "output_type": "error",
          "ename": "ValueError",
          "evalue": "list.remove(x): x not in list",
          "traceback": [
            "\u001b[1;31m---------------------------------------------------------------------------\u001b[0m",
            "\u001b[1;31mValueError\u001b[0m                                Traceback (most recent call last)",
            "\u001b[1;32m<ipython-input-42-2afa78f0dea0>\u001b[0m in \u001b[0;36m<module>\u001b[1;34m\u001b[0m\n\u001b[1;32m----> 1\u001b[1;33m \u001b[0mmylist\u001b[0m\u001b[1;33m.\u001b[0m\u001b[0mremove\u001b[0m\u001b[1;33m(\u001b[0m\u001b[1;34m\"course\"\u001b[0m\u001b[1;33m)\u001b[0m\u001b[1;33m\u001b[0m\u001b[1;33m\u001b[0m\u001b[0m\n\u001b[0m\u001b[0;32m      2\u001b[0m \u001b[0mmylist\u001b[0m\u001b[1;33m.\u001b[0m\u001b[0mremove\u001b[0m\u001b[1;33m(\u001b[0m\u001b[1;34m\"python\"\u001b[0m\u001b[1;33m)\u001b[0m\u001b[1;33m\u001b[0m\u001b[1;33m\u001b[0m\u001b[0m\n\u001b[0;32m      3\u001b[0m \u001b[0mprint\u001b[0m\u001b[1;33m(\u001b[0m\u001b[0mmylist\u001b[0m\u001b[1;33m)\u001b[0m\u001b[1;33m\u001b[0m\u001b[1;33m\u001b[0m\u001b[0m\n",
            "\u001b[1;31mValueError\u001b[0m: list.remove(x): x not in list"
          ]
        }
      ]
    },
    {
      "cell_type": "code",
      "metadata": {
        "colab": {
          "base_uri": "https://localhost:8080/",
          "height": 35
        },
        "id": "aSsRxEvPowM-",
        "outputId": "25dd6093-dd61-485d-c03e-548a213c6157"
      },
      "source": [
        "mylist.remove(\"course\")\n",
        "print(mylist)"
      ],
      "execution_count": null,
      "outputs": [
        {
          "output_type": "error",
          "ename": "ValueError",
          "evalue": "list.remove(x): x not in list",
          "traceback": [
            "\u001b[1;31m---------------------------------------------------------------------------\u001b[0m",
            "\u001b[1;31mValueError\u001b[0m                                Traceback (most recent call last)",
            "\u001b[1;32m<ipython-input-43-5947306e3ed0>\u001b[0m in \u001b[0;36m<module>\u001b[1;34m\u001b[0m\n\u001b[1;32m----> 1\u001b[1;33m \u001b[0mmylist\u001b[0m\u001b[1;33m.\u001b[0m\u001b[0mremove\u001b[0m\u001b[1;33m(\u001b[0m\u001b[1;34m\"course\"\u001b[0m\u001b[1;33m)\u001b[0m\u001b[1;33m\u001b[0m\u001b[1;33m\u001b[0m\u001b[0m\n\u001b[0m\u001b[0;32m      2\u001b[0m \u001b[0mprint\u001b[0m\u001b[1;33m(\u001b[0m\u001b[0mmylist\u001b[0m\u001b[1;33m)\u001b[0m\u001b[1;33m\u001b[0m\u001b[1;33m\u001b[0m\u001b[0m\n",
            "\u001b[1;31mValueError\u001b[0m: list.remove(x): x not in list"
          ]
        }
      ]
    },
    {
      "cell_type": "code",
      "metadata": {
        "colab": {
          "base_uri": "https://localhost:8080/",
          "height": 35
        },
        "id": "2pnKy1t7znEH",
        "outputId": "808b1377-4da3-454e-a67f-262f6e8a3f5c"
      },
      "source": [
        "mylist.sort()\n",
        "mylist"
      ],
      "execution_count": null,
      "outputs": [
        {
          "output_type": "execute_result",
          "data": {
            "text/plain": [
              "[3, 4, 5, 6, 7]"
            ]
          },
          "metadata": {
            "tags": []
          },
          "execution_count": 128
        }
      ]
    },
    {
      "cell_type": "code",
      "metadata": {
        "id": "06kYH0sqmCON"
      },
      "source": [
        "mylist = [3,4,5,6,7]"
      ],
      "execution_count": null,
      "outputs": []
    },
    {
      "cell_type": "code",
      "metadata": {
        "colab": {
          "base_uri": "https://localhost:8080/",
          "height": 35
        },
        "id": "sjC4_sbzzt0n",
        "outputId": "9b4dc577-f844-41f2-9d0b-8271391437e8"
      },
      "source": [
        "mylist.reverse()\n",
        "mylist"
      ],
      "execution_count": null,
      "outputs": [
        {
          "output_type": "execute_result",
          "data": {
            "text/plain": [
              "[7, 6, 5, 4, 3]"
            ]
          },
          "metadata": {
            "tags": []
          },
          "execution_count": 45
        }
      ]
    },
    {
      "cell_type": "code",
      "metadata": {
        "colab": {
          "base_uri": "https://localhost:8080/",
          "height": 35
        },
        "id": "SDVAJpN3z4md",
        "outputId": "5eb5b5c4-0e93-4594-a0e1-a2bb02f2e276"
      },
      "source": [
        "mylist2 = [\"python\", \"course\", \"hello\"]\n",
        "mylist2.sort()\n",
        "mylist2"
      ],
      "execution_count": null,
      "outputs": [
        {
          "output_type": "execute_result",
          "data": {
            "text/plain": [
              "['course', 'hello', 'python']"
            ]
          },
          "metadata": {
            "tags": []
          },
          "execution_count": 46
        }
      ]
    },
    {
      "cell_type": "code",
      "metadata": {
        "id": "HyQrtFNwmCON",
        "outputId": "a383e443-6bea-4dc8-90eb-6249d9639b73"
      },
      "source": [
        "mylist"
      ],
      "execution_count": null,
      "outputs": [
        {
          "output_type": "execute_result",
          "data": {
            "text/plain": [
              "[7, 6, 5, 4, 3]"
            ]
          },
          "metadata": {
            "tags": []
          },
          "execution_count": 47
        }
      ]
    },
    {
      "cell_type": "code",
      "metadata": {
        "colab": {
          "base_uri": "https://localhost:8080/",
          "height": 35
        },
        "id": "mLBbaZH70SkL",
        "outputId": "b35d5081-92ce-4b6d-ed7d-af8f8bf6a24a"
      },
      "source": [
        "mylist3 = [1, 11, 111, 1111]\n",
        "mylist.extend(mylist3)\n",
        "mylist"
      ],
      "execution_count": null,
      "outputs": [
        {
          "output_type": "execute_result",
          "data": {
            "text/plain": [
              "[7, 6, 5, 4, 3, 1, 11, 111, 1111, 1, 11, 111, 1111]"
            ]
          },
          "metadata": {
            "tags": []
          },
          "execution_count": 49
        }
      ]
    },
    {
      "cell_type": "code",
      "metadata": {
        "colab": {
          "base_uri": "https://localhost:8080/",
          "height": 35
        },
        "id": "gaNw7ha90pe5",
        "outputId": "8a88ab23-4548-4417-8743-4ff28015c3d1"
      },
      "source": [
        "mylist4 = [1, 11, 111, 1111]\n",
        "mylist.append(mylist4)\n",
        "print(mylist)"
      ],
      "execution_count": null,
      "outputs": [
        {
          "output_type": "stream",
          "text": [
            "[7, 6, 5, 4, 3, 1, 11, 111, 1111, 1, 11, 111, 1111, [1, 11, 111, 1111], [1, 11, 111, 1111]]\n"
          ],
          "name": "stdout"
        }
      ]
    },
    {
      "cell_type": "code",
      "metadata": {
        "id": "t8fn5qremCOO",
        "outputId": "18ea8112-73b1-49a5-f345-086c39708a97"
      },
      "source": [
        "list_in_list = [\"python\",\"Java\",3.2, 4, 11, [5,65,7,8,9]]\n",
        "print(list_in_list[5])"
      ],
      "execution_count": null,
      "outputs": [
        {
          "output_type": "stream",
          "text": [
            "[5, 65, 7, 8, 9]\n"
          ],
          "name": "stdout"
        }
      ]
    },
    {
      "cell_type": "code",
      "metadata": {
        "id": "sENNgOgYmCOO",
        "outputId": "4def496e-2337-441e-8181-ca346813a8f7"
      },
      "source": [
        "list_in_list[-1]"
      ],
      "execution_count": null,
      "outputs": [
        {
          "output_type": "execute_result",
          "data": {
            "text/plain": [
              "[5, 65, 7, 8, 9]"
            ]
          },
          "metadata": {
            "tags": []
          },
          "execution_count": 53
        }
      ]
    },
    {
      "cell_type": "code",
      "metadata": {
        "id": "32M3RVubmCOO"
      },
      "source": [
        "mylist = [2, 3, 4, 5, 6, 'python', 'flutter', 'Android', 'JavaScript', 'dart', 3.2, 5.0]"
      ],
      "execution_count": null,
      "outputs": []
    },
    {
      "cell_type": "code",
      "metadata": {
        "colab": {
          "base_uri": "https://localhost:8080/",
          "height": 35
        },
        "id": "AfHla3bf2rFG",
        "outputId": "4c024053-4f10-4edf-d04c-6e1f64e57ef1"
      },
      "source": [
        "print(mylist)\n",
        "mylist.insert(5,55)   # insert(x,y) --> adding x th index the y value but don't change the x th value, it remains the same.\n",
        "print(mylist)"
      ],
      "execution_count": null,
      "outputs": [
        {
          "output_type": "stream",
          "text": [
            "[2, 3, 4, 5, 6, 'python', 'flutter', 'Android', 'JavaScript', 'dart', 3.2, 5.0]\n",
            "[2, 3, 4, 5, 6, 55, 'python', 'flutter', 'Android', 'JavaScript', 'dart', 3.2, 5.0]\n"
          ],
          "name": "stdout"
        }
      ]
    },
    {
      "cell_type": "code",
      "metadata": {
        "id": "gSF4xJz8mCOO",
        "outputId": "66c97b7f-ebd9-4af3-d8c8-37ea1815c51f"
      },
      "source": [
        "a = list([1,2,3,4,5,6])\n",
        "a "
      ],
      "execution_count": null,
      "outputs": [
        {
          "output_type": "execute_result",
          "data": {
            "text/plain": [
              "[1, 2, 3, 4, 5, 6]"
            ]
          },
          "metadata": {
            "tags": []
          },
          "execution_count": 58
        }
      ]
    },
    {
      "cell_type": "code",
      "metadata": {
        "colab": {
          "base_uri": "https://localhost:8080/",
          "height": 35
        },
        "id": "s_OhpjEiOKgw",
        "outputId": "89dfa80d-9ba4-420c-bd8f-39a3f4890b46"
      },
      "source": [
        "liste1 = list()\n",
        "numbers = list(range(8))\n",
        "\n",
        "print(numbers)\n",
        "print(liste1)"
      ],
      "execution_count": null,
      "outputs": [
        {
          "output_type": "stream",
          "text": [
            "[0, 1, 2, 3, 4, 5, 6, 7]\n",
            "[]\n"
          ],
          "name": "stdout"
        }
      ]
    },
    {
      "cell_type": "code",
      "metadata": {
        "colab": {
          "base_uri": "https://localhost:8080/",
          "height": 35
        },
        "id": "TrlAuQrZmqPe",
        "outputId": "46f3b118-0e87-4f66-aac4-4c5c528a9a22"
      },
      "source": [
        "numbers2 = list(range(2,15,3)) #range(start, stop, step)\n",
        "print(numbers2)\n",
        "numbers2.reverse()\n",
        "print(numbers2)"
      ],
      "execution_count": null,
      "outputs": [
        {
          "output_type": "stream",
          "text": [
            "[2, 5, 8, 11, 14]\n",
            "[14, 11, 8, 5, 2]\n"
          ],
          "name": "stdout"
        }
      ]
    },
    {
      "cell_type": "code",
      "metadata": {
        "id": "zVQWRGf0mCOP",
        "outputId": "a9c760ec-1868-4883-a52f-65edc4da363b"
      },
      "source": [
        "numbers"
      ],
      "execution_count": null,
      "outputs": [
        {
          "output_type": "execute_result",
          "data": {
            "text/plain": [
              "[0, 1, 2, 3, 4, 5, 6, 7]"
            ]
          },
          "metadata": {
            "tags": []
          },
          "execution_count": 61
        }
      ]
    },
    {
      "cell_type": "code",
      "metadata": {
        "colab": {
          "base_uri": "https://localhost:8080/",
          "height": 35
        },
        "id": "dWYyfECgjoD5",
        "outputId": "7f9093cf-841f-4cca-b2ce-1a2056c79b6a"
      },
      "source": [
        "print(numbers[2:5])"
      ],
      "execution_count": null,
      "outputs": [
        {
          "output_type": "stream",
          "text": [
            "[2, 3, 4]\n"
          ],
          "name": "stdout"
        }
      ]
    },
    {
      "cell_type": "code",
      "metadata": {
        "colab": {
          "base_uri": "https://localhost:8080/",
          "height": 35
        },
        "id": "9pNuEe8lj-T9",
        "outputId": "ecea7a28-03f4-4d44-ef6d-5f0fbd7c3cf7"
      },
      "source": [
        "numbers[5:8] = [10,11,12]\n",
        "numbers"
      ],
      "execution_count": null,
      "outputs": [
        {
          "output_type": "execute_result",
          "data": {
            "text/plain": [
              "[0, 1, 2, 3, 4, 10, 11, 12]"
            ]
          },
          "metadata": {
            "tags": []
          },
          "execution_count": 62
        }
      ]
    },
    {
      "cell_type": "markdown",
      "metadata": {
        "id": "IdVXxCBHJ07g"
      },
      "source": [
        "### Sözlük (dictionary)\n",
        "Sözlükler de Tuple ve List veri türleri gibi farklı veri türleri bulunur fakat sözlükler biraz  farklıdır. Sözlükler süslü parantezler ile ifade edilir ve  iki kısımdan oluşur; keys(anahtar) ve value(değer),  value kısmı bütün veri türünü içerebilir fakat keys kısmı sadece string ve int tipinde olabilir. Sözlüklerde değiştirilebilir veri türü olup ekleme,çıkarma vb. işlemler yapılabilir.\n",
        "\n",
        "\n"
      ]
    },
    {
      "cell_type": "code",
      "metadata": {
        "id": "-fo5_OkfcFz4",
        "outputId": "f4862c29-35a7-4e52-e918-d4be801e3638"
      },
      "source": [
        "d = {}\n",
        "\n",
        "print(d)\n",
        "type(d)"
      ],
      "execution_count": null,
      "outputs": [
        {
          "output_type": "stream",
          "text": [
            "{}\n"
          ],
          "name": "stdout"
        },
        {
          "output_type": "execute_result",
          "data": {
            "text/plain": [
              "dict"
            ]
          },
          "metadata": {
            "tags": []
          },
          "execution_count": 10
        }
      ]
    },
    {
      "cell_type": "code",
      "metadata": {
        "colab": {
          "base_uri": "https://localhost:8080/",
          "height": 35
        },
        "id": "n5qcMd-GLsKa",
        "outputId": "b93ee552-50e7-49ba-cc11-8d09887643f1"
      },
      "source": [
        "d = {\"python\":1, \"course\":2}\n",
        "print(d)"
      ],
      "execution_count": null,
      "outputs": [
        {
          "output_type": "stream",
          "text": [
            "{'python': 1, 'course': 2}\n"
          ],
          "name": "stdout"
        }
      ]
    },
    {
      "cell_type": "code",
      "metadata": {
        "colab": {
          "base_uri": "https://localhost:8080/",
          "height": 35
        },
        "id": "EX9oMWnHL7fq",
        "outputId": "011a543e-a1fa-4d88-d8e8-822e4a806955"
      },
      "source": [
        "d2 = {\"machine\":\"learning\", \"artificial\":\"intelligence\" }\n",
        "d2"
      ],
      "execution_count": null,
      "outputs": [
        {
          "output_type": "execute_result",
          "data": {
            "text/plain": [
              "{'machine': 'learning', 'artificial': 'intelligence'}"
            ]
          },
          "metadata": {
            "tags": []
          },
          "execution_count": 12
        }
      ]
    },
    {
      "cell_type": "code",
      "metadata": {
        "colab": {
          "base_uri": "https://localhost:8080/",
          "height": 36
        },
        "id": "eckt9hWHMKyB",
        "outputId": "2574c92e-966b-4f7a-faf9-b6b782bda0b4"
      },
      "source": [
        "d2[\"artificial\"]"
      ],
      "execution_count": null,
      "outputs": [
        {
          "output_type": "execute_result",
          "data": {
            "text/plain": [
              "'intelligence'"
            ]
          },
          "metadata": {
            "tags": []
          },
          "execution_count": 14
        }
      ]
    },
    {
      "cell_type": "code",
      "metadata": {
        "id": "P07ODlUDcFz5",
        "outputId": "b4900890-4fee-4de9-bb25-caa39ca95799"
      },
      "source": [
        "d2[\"java\"] = \"programming\"\n",
        "d2"
      ],
      "execution_count": null,
      "outputs": [
        {
          "output_type": "execute_result",
          "data": {
            "text/plain": [
              "{'machine': 'learning', 'artificial': 'intelligence', 'java': 'programming'}"
            ]
          },
          "metadata": {
            "tags": []
          },
          "execution_count": 16
        }
      ]
    },
    {
      "cell_type": "code",
      "metadata": {
        "id": "aGhqBey1cFz5",
        "outputId": "377dcf17-1817-4ef6-dc07-60c58736776a"
      },
      "source": [
        "d2[\"ruby\"] = \"programming\"\n",
        "d2"
      ],
      "execution_count": null,
      "outputs": [
        {
          "output_type": "execute_result",
          "data": {
            "text/plain": [
              "{'machine': 'learning',\n",
              " 'artificial': 'intelligence',\n",
              " 'java': 'programming',\n",
              " 'ruby': 'programming'}"
            ]
          },
          "metadata": {
            "tags": []
          },
          "execution_count": 19
        }
      ]
    },
    {
      "cell_type": "code",
      "metadata": {
        "id": "iwJO06pLcFz6",
        "outputId": "db304b74-d8a0-47e4-9024-200102ee9720"
      },
      "source": [
        "d2[\"ruby\"] = \"language\"\n",
        "d2"
      ],
      "execution_count": null,
      "outputs": [
        {
          "output_type": "execute_result",
          "data": {
            "text/plain": [
              "{'machine': 'learning',\n",
              " 'artificial': 'intelligence',\n",
              " 'java': 'programming',\n",
              " 'ruby': 'language'}"
            ]
          },
          "metadata": {
            "tags": []
          },
          "execution_count": 20
        }
      ]
    },
    {
      "cell_type": "code",
      "metadata": {
        "id": "V4-QRNaWcFz6",
        "outputId": "f0532128-db34-4dc4-bbdf-4830e0a868ba"
      },
      "source": [
        "d"
      ],
      "execution_count": null,
      "outputs": [
        {
          "output_type": "execute_result",
          "data": {
            "text/plain": [
              "{'python': 1, 'course': 2}"
            ]
          },
          "metadata": {
            "tags": []
          },
          "execution_count": 22
        }
      ]
    },
    {
      "cell_type": "code",
      "metadata": {
        "colab": {
          "base_uri": "https://localhost:8080/",
          "height": 35
        },
        "id": "EtB2gyEmMWjy",
        "outputId": "f16e2223-550d-401d-b669-228d34ce8982"
      },
      "source": [
        "d[\"course\"]"
      ],
      "execution_count": null,
      "outputs": [
        {
          "output_type": "execute_result",
          "data": {
            "text/plain": [
              "2"
            ]
          },
          "metadata": {
            "tags": []
          },
          "execution_count": 23
        }
      ]
    },
    {
      "cell_type": "code",
      "metadata": {
        "colab": {
          "base_uri": "https://localhost:8080/",
          "height": 35
        },
        "id": "t2flZAV2NIIq",
        "outputId": "9ee61c7c-b81b-4965-d128-fdb44d16e691"
      },
      "source": [
        "d2[\"deep\"] = \"learning\"\n",
        "d2\n",
        "#print(d2)"
      ],
      "execution_count": null,
      "outputs": [
        {
          "output_type": "execute_result",
          "data": {
            "text/plain": [
              "{'machine': 'learning',\n",
              " 'artificial': 'intelligence',\n",
              " 'java': 'programming',\n",
              " 'ruby': 'language',\n",
              " 'deep': 'learning'}"
            ]
          },
          "metadata": {
            "tags": []
          },
          "execution_count": 25
        }
      ]
    },
    {
      "cell_type": "code",
      "metadata": {
        "id": "qYpKXUEIcFz6",
        "outputId": "05d269bd-7dc5-4018-fcbd-a1b0258a4dfb"
      },
      "source": [
        "d"
      ],
      "execution_count": null,
      "outputs": [
        {
          "output_type": "execute_result",
          "data": {
            "text/plain": [
              "{'python': 1, 'course': 2}"
            ]
          },
          "metadata": {
            "tags": []
          },
          "execution_count": 26
        }
      ]
    },
    {
      "cell_type": "code",
      "metadata": {
        "colab": {
          "base_uri": "https://localhost:8080/",
          "height": 35
        },
        "id": "ntLDke2enyh6",
        "outputId": "e64c7450-f5cb-4ef4-ac96-c32e702e799d"
      },
      "source": [
        "print(d.keys())"
      ],
      "execution_count": null,
      "outputs": [
        {
          "output_type": "stream",
          "text": [
            "dict_keys(['python', 'course'])\n"
          ],
          "name": "stdout"
        }
      ]
    },
    {
      "cell_type": "code",
      "metadata": {
        "id": "y9HV_zWLcFz7",
        "outputId": "dc90c6e1-24d8-4b75-ead1-b311db51878d"
      },
      "source": [
        "d2.keys()"
      ],
      "execution_count": null,
      "outputs": [
        {
          "output_type": "execute_result",
          "data": {
            "text/plain": [
              "dict_keys(['machine', 'artificial', 'java', 'ruby', 'deep'])"
            ]
          },
          "metadata": {
            "tags": []
          },
          "execution_count": 28
        }
      ]
    },
    {
      "cell_type": "code",
      "metadata": {
        "colab": {
          "base_uri": "https://localhost:8080/",
          "height": 35
        },
        "id": "RRCll5K-oEW6",
        "outputId": "ca0a5e9d-4b4c-4f91-fc2e-6581f76dc6f2"
      },
      "source": [
        "d2.values()"
      ],
      "execution_count": null,
      "outputs": [
        {
          "output_type": "execute_result",
          "data": {
            "text/plain": [
              "dict_values(['learning', 'intelligence', 'programming', 'language', 'learning'])"
            ]
          },
          "metadata": {
            "tags": []
          },
          "execution_count": 29
        }
      ]
    },
    {
      "cell_type": "code",
      "metadata": {
        "colab": {
          "base_uri": "https://localhost:8080/",
          "height": 35
        },
        "id": "YYzF_DyGoHWm",
        "outputId": "efa04009-abdf-40e1-d177-cb046ff201b7"
      },
      "source": [
        "d2.items()"
      ],
      "execution_count": null,
      "outputs": [
        {
          "output_type": "execute_result",
          "data": {
            "text/plain": [
              "dict_items([('machine', 'learning'), ('artificial', 'intelligence'), ('java', 'programming'), ('ruby', 'language'), ('deep', 'learning')])"
            ]
          },
          "metadata": {
            "tags": []
          },
          "execution_count": 43
        }
      ]
    },
    {
      "cell_type": "code",
      "metadata": {
        "colab": {
          "base_uri": "https://localhost:8080/",
          "height": 70
        },
        "id": "rcKOifmfoap9",
        "outputId": "fdea2f68-ed1b-45c2-ba42-54e7e56b2ae4"
      },
      "source": [
        "for k in d2.keys():\n",
        "  print(k)\n"
      ],
      "execution_count": null,
      "outputs": [
        {
          "output_type": "stream",
          "text": [
            "machine\n",
            "artificial\n",
            "java\n",
            "ruby\n",
            "deep\n"
          ],
          "name": "stdout"
        }
      ]
    },
    {
      "cell_type": "code",
      "metadata": {
        "colab": {
          "base_uri": "https://localhost:8080/",
          "height": 52
        },
        "id": "bhSGEUT5oqc3",
        "outputId": "c72bb74e-5010-476f-a289-f63ff4e68572"
      },
      "source": [
        "for v in d.values():\n",
        "  print(v)"
      ],
      "execution_count": null,
      "outputs": [
        {
          "output_type": "stream",
          "text": [
            "1\n",
            "2\n"
          ],
          "name": "stdout"
        }
      ]
    },
    {
      "cell_type": "code",
      "metadata": {
        "id": "ZYMRTmIscFz8",
        "outputId": "553a9caa-822e-401c-efa8-625408185810"
      },
      "source": [
        "for v in d2.values():\n",
        "  print(v)"
      ],
      "execution_count": null,
      "outputs": [
        {
          "output_type": "stream",
          "text": [
            "learning\n",
            "intelligence\n",
            "programming\n",
            "language\n",
            "learning\n"
          ],
          "name": "stdout"
        }
      ]
    },
    {
      "cell_type": "code",
      "metadata": {
        "id": "yIu9R5RocFz8",
        "outputId": "2cc31cf3-7cd3-4ffd-8f2f-b7c21b9ca55a"
      },
      "source": [
        "d2"
      ],
      "execution_count": null,
      "outputs": [
        {
          "output_type": "execute_result",
          "data": {
            "text/plain": [
              "{'machine': 'learning',\n",
              " 'artificial': 'intelligence',\n",
              " 'java': 'programming',\n",
              " 'ruby': 'language',\n",
              " 'deep': 'learning'}"
            ]
          },
          "metadata": {
            "tags": []
          },
          "execution_count": 39
        }
      ]
    },
    {
      "cell_type": "code",
      "metadata": {
        "colab": {
          "base_uri": "https://localhost:8080/",
          "height": 70
        },
        "id": "j5Oyr1AFpC4f",
        "scrolled": true,
        "outputId": "98ea8ef2-915c-4dd4-d0c9-d5987b97b12d"
      },
      "source": [
        "for k,v in d2.items():\n",
        "  print(\"Key:\", k, \"Value:\", v)"
      ],
      "execution_count": null,
      "outputs": [
        {
          "output_type": "stream",
          "text": [
            "Key: machine Value: learning\n",
            "Key: artificial Value: intelligence\n",
            "Key: java Value: programming\n",
            "Key: ruby Value: language\n",
            "Key: deep Value: learning\n"
          ],
          "name": "stdout"
        }
      ]
    },
    {
      "cell_type": "code",
      "metadata": {
        "colab": {
          "base_uri": "https://localhost:8080/",
          "height": 35
        },
        "id": "ffQvbfgepJVv",
        "outputId": "12edae3a-2b66-4279-e6fc-10c4f9d005b1"
      },
      "source": [
        "for k,v in d.items():\n",
        "  if v == 2:\n",
        "    print(k)"
      ],
      "execution_count": null,
      "outputs": [
        {
          "output_type": "stream",
          "text": [
            "course\n"
          ],
          "name": "stdout"
        }
      ]
    },
    {
      "cell_type": "code",
      "metadata": {
        "colab": {
          "base_uri": "https://localhost:8080/",
          "height": 35
        },
        "id": "fmxKFTs4pqwP",
        "outputId": "ed84dd19-da07-4772-bacf-be7d9f95e991"
      },
      "source": [
        "d"
      ],
      "execution_count": null,
      "outputs": [
        {
          "output_type": "execute_result",
          "data": {
            "text/plain": [
              "{'python': 1, 'course': 2}"
            ]
          },
          "metadata": {
            "tags": []
          },
          "execution_count": 49
        }
      ]
    },
    {
      "cell_type": "code",
      "metadata": {
        "colab": {
          "base_uri": "https://localhost:8080/",
          "height": 35
        },
        "id": "iy6FAQxHpt6Q",
        "outputId": "a59e0324-fb84-4c14-e723-2e535c09105c"
      },
      "source": [
        "d[\"a\"] = [3,4,5]\n",
        "d"
      ],
      "execution_count": null,
      "outputs": [
        {
          "output_type": "execute_result",
          "data": {
            "text/plain": [
              "{'python': 1, 'course': 2, 'a': [3, 4, 5]}"
            ]
          },
          "metadata": {
            "tags": []
          },
          "execution_count": 51
        }
      ]
    },
    {
      "cell_type": "code",
      "metadata": {
        "colab": {
          "base_uri": "https://localhost:8080/",
          "height": 35
        },
        "id": "AINo_32Upzyv",
        "outputId": "81ed10a8-59f8-4d29-afc5-f81281ae6541"
      },
      "source": [
        "d.pop(\"python\")\n",
        "d"
      ],
      "execution_count": null,
      "outputs": [
        {
          "output_type": "execute_result",
          "data": {
            "text/plain": [
              "{'course': 2, 'a': [3, 4, 5]}"
            ]
          },
          "metadata": {
            "tags": []
          },
          "execution_count": 52
        }
      ]
    },
    {
      "cell_type": "code",
      "metadata": {
        "id": "QjErEFgGcFz9",
        "outputId": "9283c698-290a-4359-cb70-e9b75bb56f42"
      },
      "source": [
        "d.pop(\"python\")\n",
        "d"
      ],
      "execution_count": null,
      "outputs": [
        {
          "output_type": "error",
          "ename": "KeyError",
          "evalue": "'python'",
          "traceback": [
            "\u001b[1;31m---------------------------------------------------------------------------\u001b[0m",
            "\u001b[1;31mKeyError\u001b[0m                                  Traceback (most recent call last)",
            "\u001b[1;32m<ipython-input-53-f8be978652e7>\u001b[0m in \u001b[0;36m<module>\u001b[1;34m\u001b[0m\n\u001b[1;32m----> 1\u001b[1;33m \u001b[0md\u001b[0m\u001b[1;33m.\u001b[0m\u001b[0mpop\u001b[0m\u001b[1;33m(\u001b[0m\u001b[1;34m\"python\"\u001b[0m\u001b[1;33m)\u001b[0m\u001b[1;33m\u001b[0m\u001b[1;33m\u001b[0m\u001b[0m\n\u001b[0m\u001b[0;32m      2\u001b[0m \u001b[0md\u001b[0m\u001b[1;33m\u001b[0m\u001b[1;33m\u001b[0m\u001b[0m\n",
            "\u001b[1;31mKeyError\u001b[0m: 'python'"
          ]
        }
      ]
    },
    {
      "cell_type": "code",
      "metadata": {
        "id": "nsOgHRxScFz9",
        "outputId": "59c0a3b6-4fb2-43eb-967e-bdeb8a100b11"
      },
      "source": [
        "d"
      ],
      "execution_count": null,
      "outputs": [
        {
          "output_type": "execute_result",
          "data": {
            "text/plain": [
              "{'course': 2, 'a': [3, 4, 5]}"
            ]
          },
          "metadata": {
            "tags": []
          },
          "execution_count": 55
        }
      ]
    },
    {
      "cell_type": "code",
      "metadata": {
        "colab": {
          "base_uri": "https://localhost:8080/",
          "height": 35
        },
        "id": "U8QBwgp0sSJi",
        "outputId": "4f9ed760-c159-42e8-8a03-79180334dd79"
      },
      "source": [
        "len(d)"
      ],
      "execution_count": null,
      "outputs": [
        {
          "output_type": "execute_result",
          "data": {
            "text/plain": [
              "2"
            ]
          },
          "metadata": {
            "tags": []
          },
          "execution_count": 56
        }
      ]
    },
    {
      "cell_type": "code",
      "metadata": {
        "colab": {
          "base_uri": "https://localhost:8080/",
          "height": 35
        },
        "id": "89k7tFi_sWJO",
        "outputId": "ac845006-5d16-42f4-f51d-e974b74e4be8"
      },
      "source": [
        "\"a\" in d"
      ],
      "execution_count": null,
      "outputs": [
        {
          "output_type": "execute_result",
          "data": {
            "text/plain": [
              "True"
            ]
          },
          "metadata": {
            "tags": []
          },
          "execution_count": 58
        }
      ]
    },
    {
      "cell_type": "code",
      "metadata": {
        "colab": {
          "base_uri": "https://localhost:8080/",
          "height": 35
        },
        "id": "XdyIf0L1sYRM",
        "outputId": "bc09b449-a697-4c67-8ed4-e28ad9b6b118"
      },
      "source": [
        "\"aa\" in d"
      ],
      "execution_count": null,
      "outputs": [
        {
          "output_type": "execute_result",
          "data": {
            "text/plain": [
              "False"
            ]
          },
          "metadata": {
            "tags": []
          },
          "execution_count": 59
        }
      ]
    },
    {
      "cell_type": "code",
      "metadata": {
        "colab": {
          "base_uri": "https://localhost:8080/",
          "height": 35
        },
        "id": "oJvHWYyouN9w",
        "outputId": "c495cd2c-67ce-466d-82e4-7d47ec3a6fbf"
      },
      "source": [
        "d2"
      ],
      "execution_count": null,
      "outputs": [
        {
          "output_type": "execute_result",
          "data": {
            "text/plain": [
              "{'machine': 'learning',\n",
              " 'artificial': 'intelligence',\n",
              " 'java': 'programming',\n",
              " 'ruby': 'language',\n",
              " 'deep': 'learning'}"
            ]
          },
          "metadata": {
            "tags": []
          },
          "execution_count": 60
        }
      ]
    },
    {
      "cell_type": "code",
      "metadata": {
        "colab": {
          "base_uri": "https://localhost:8080/",
          "height": 36
        },
        "id": "uAtvUx9Jsf0w",
        "outputId": "d29e5cc0-99f0-4bb7-e5e3-4a625922c45b"
      },
      "source": [
        "d2.get(\"java\")"
      ],
      "execution_count": null,
      "outputs": [
        {
          "output_type": "execute_result",
          "data": {
            "text/plain": [
              "'programming'"
            ]
          },
          "metadata": {
            "tags": []
          },
          "execution_count": 66
        }
      ]
    },
    {
      "cell_type": "code",
      "metadata": {
        "id": "GobxPk3fuWi2",
        "outputId": "65c1e791-b933-42fc-b7e9-136eeccc496e"
      },
      "source": [
        "d2.get(\"Global AI Hub\")"
      ],
      "execution_count": null,
      "outputs": [
        {
          "output_type": "error",
          "ename": "NameError",
          "evalue": "name 'd2' is not defined",
          "traceback": [
            "\u001b[1;31m---------------------------------------------------------------------------\u001b[0m",
            "\u001b[1;31mNameError\u001b[0m                                 Traceback (most recent call last)",
            "\u001b[1;32m<ipython-input-1-9ce9dbfa9305>\u001b[0m in \u001b[0;36m<module>\u001b[1;34m\u001b[0m\n\u001b[1;32m----> 1\u001b[1;33m \u001b[0md2\u001b[0m\u001b[1;33m.\u001b[0m\u001b[0mget\u001b[0m\u001b[1;33m(\u001b[0m\u001b[1;34m\"Global AI Hub\"\u001b[0m\u001b[1;33m)\u001b[0m\u001b[1;33m\u001b[0m\u001b[1;33m\u001b[0m\u001b[0m\n\u001b[0m",
            "\u001b[1;31mNameError\u001b[0m: name 'd2' is not defined"
          ]
        }
      ]
    },
    {
      "cell_type": "code",
      "metadata": {
        "id": "wamfJIWHcFz_",
        "outputId": "3533f976-13e3-4b77-ce20-b0b57dc77830"
      },
      "source": [
        "d2"
      ],
      "execution_count": null,
      "outputs": [
        {
          "output_type": "execute_result",
          "data": {
            "text/plain": [
              "{'machine': 'learning',\n",
              " 'artificial': 'intelligence',\n",
              " 'java': 'programming',\n",
              " 'ruby': 'language',\n",
              " 'deep': 'learning'}"
            ]
          },
          "metadata": {
            "tags": []
          },
          "execution_count": 68
        }
      ]
    },
    {
      "cell_type": "code",
      "metadata": {
        "colab": {
          "base_uri": "https://localhost:8080/",
          "height": 35
        },
        "id": "nyH6npGYuhRD",
        "outputId": "b5a8ef56-c1cb-449b-9903-c426bb8c9fc7"
      },
      "source": [
        "del d2[\"deep\"]\n",
        "d2"
      ],
      "execution_count": null,
      "outputs": [
        {
          "output_type": "execute_result",
          "data": {
            "text/plain": [
              "{'machine': 'learning',\n",
              " 'artificial': 'intelligence',\n",
              " 'java': 'programming',\n",
              " 'ruby': 'language'}"
            ]
          },
          "metadata": {
            "tags": []
          },
          "execution_count": 69
        }
      ]
    },
    {
      "cell_type": "code",
      "metadata": {
        "id": "VJ1MoCoZcFz_",
        "outputId": "de5dd325-9748-457a-a069-d679dc5ad82b"
      },
      "source": [
        "d2"
      ],
      "execution_count": null,
      "outputs": [
        {
          "output_type": "execute_result",
          "data": {
            "text/plain": [
              "{'machine': 'learning',\n",
              " 'artificial': 'intelligence',\n",
              " 'java': 'programming',\n",
              " 'ruby': 'language'}"
            ]
          },
          "metadata": {
            "tags": []
          },
          "execution_count": 70
        }
      ]
    },
    {
      "cell_type": "code",
      "metadata": {
        "id": "xiSnYPJGcFz_",
        "outputId": "b53f39fd-685e-4f00-f60b-4c8bf315a967"
      },
      "source": [
        "d2['machine'] = \"Deep Learning\"\n",
        "d2"
      ],
      "execution_count": null,
      "outputs": [
        {
          "output_type": "execute_result",
          "data": {
            "text/plain": [
              "{'machine': 'Deep Learning',\n",
              " 'artificial': 'intelligence',\n",
              " 'java': 'programming',\n",
              " 'ruby': 'language'}"
            ]
          },
          "metadata": {
            "tags": []
          },
          "execution_count": 71
        }
      ]
    },
    {
      "cell_type": "code",
      "metadata": {
        "id": "yMJ4dJatcFz_",
        "outputId": "c3719c30-0ec6-4ec9-e071-2e9c3331fc3c"
      },
      "source": [
        "d2['machine'] = \"Deep Learning\"\n",
        "d2"
      ],
      "execution_count": null,
      "outputs": [
        {
          "output_type": "execute_result",
          "data": {
            "text/plain": [
              "{'machine': 'Deep Learning',\n",
              " 'artificial': 'intelligence',\n",
              " 'java': 'programming',\n",
              " 'ruby': 'language'}"
            ]
          },
          "metadata": {
            "tags": []
          },
          "execution_count": 73
        }
      ]
    },
    {
      "cell_type": "code",
      "metadata": {
        "id": "kyINE7YscF0A",
        "outputId": "1d5e66c9-404e-4089-853c-a86e35dcb6ec"
      },
      "source": [
        "d2_copy = d2.copy()\n",
        "d2_copy"
      ],
      "execution_count": null,
      "outputs": [
        {
          "output_type": "execute_result",
          "data": {
            "text/plain": [
              "{'machine': 'Deep Learning',\n",
              " 'artificial': 'intelligence',\n",
              " 'java': 'programming',\n",
              " 'ruby': 'language'}"
            ]
          },
          "metadata": {
            "tags": []
          },
          "execution_count": 75
        }
      ]
    },
    {
      "cell_type": "code",
      "metadata": {
        "id": "2YCOmkG8cF0A",
        "outputId": "7ddd896d-5264-4dae-f503-13ff067646be"
      },
      "source": [
        "d2_copy['deep'] = 'AI'\n",
        "d2_copy"
      ],
      "execution_count": null,
      "outputs": [
        {
          "output_type": "execute_result",
          "data": {
            "text/plain": [
              "{'machine': 'Deep Learning',\n",
              " 'artificial': 'intelligence',\n",
              " 'java': 'programming',\n",
              " 'ruby': 'language',\n",
              " 'deep': 'AI'}"
            ]
          },
          "metadata": {
            "tags": []
          },
          "execution_count": 77
        }
      ]
    },
    {
      "cell_type": "code",
      "metadata": {
        "id": "b9SRNEShcF0A",
        "outputId": "3f38d819-d7b9-4e60-b65b-d79ff7f4aa48"
      },
      "source": [
        "d2"
      ],
      "execution_count": null,
      "outputs": [
        {
          "output_type": "execute_result",
          "data": {
            "text/plain": [
              "{'machine': 'Deep Learning',\n",
              " 'artificial': 'intelligence',\n",
              " 'java': 'programming',\n",
              " 'ruby': 'language'}"
            ]
          },
          "metadata": {
            "tags": []
          },
          "execution_count": 78
        }
      ]
    },
    {
      "cell_type": "code",
      "metadata": {
        "id": "rED5dTIhvSO6",
        "outputId": "27434c98-e7d9-4dc1-85a0-ad1c916b15d6"
      },
      "source": [
        "d4 = {\"human\":2,\n",
        "      \"cat\":4,\n",
        "      \"spider\":8\n",
        "     }\n",
        "\n",
        "for i in d4:\n",
        "  leg = d4[i]\n",
        "  print(\"%s has %d legs \" % (i,leg))\n",
        "  print(str(i) + \" has \" + str(leg) +\" legs.\")"
      ],
      "execution_count": null,
      "outputs": [
        {
          "output_type": "stream",
          "text": [
            "human has 2 legs \n",
            "human has 2 legs.\n",
            "cat has 4 legs \n",
            "cat has 4 legs.\n",
            "spider has 8 legs \n",
            "spider has 8 legs.\n"
          ],
          "name": "stdout"
        }
      ]
    },
    {
      "cell_type": "code",
      "metadata": {
        "id": "CGzBpPlgwUTX",
        "outputId": "4690ba09-4b69-41da-e791-01c3bc2fbdd3"
      },
      "source": [
        "d4 = {\"human\":2, \"cat\":4, \"spider\":8}\n",
        "\n",
        "for i,leg in d4.items():\n",
        "  print(str(i) + \" has \" + str(leg) +\" legs.\")"
      ],
      "execution_count": null,
      "outputs": [
        {
          "output_type": "stream",
          "text": [
            "human has 2 legs.\n",
            "cat has 4 legs.\n",
            "spider has 8 legs.\n"
          ],
          "name": "stdout"
        }
      ]
    },
    {
      "cell_type": "code",
      "metadata": {
        "id": "SZia6YVqwfNU"
      },
      "source": [
        "districts = {\"İstanbul\":[\"Bostancı\", \"Beşiktaş\", \"Kadıköy\"], \n",
        "           \"Ankara\":[\"Çankaya\", \"Gölbaşı\", \"Kızılcahamam\"],\n",
        "           \"İzmir\":[\"Çeşme\",\"Bornova\",\"Foça\"]}"
      ],
      "execution_count": null,
      "outputs": []
    },
    {
      "cell_type": "code",
      "metadata": {
        "colab": {
          "base_uri": "https://localhost:8080/",
          "height": 35
        },
        "id": "4HyiNDwcwfAD",
        "outputId": "a86d855c-34d6-4fc9-8e7e-41e9a86886d5"
      },
      "source": [
        "districts[\"İstanbul\"]"
      ],
      "execution_count": null,
      "outputs": [
        {
          "output_type": "execute_result",
          "data": {
            "text/plain": [
              "['Bostancı', 'Beşiktaş', 'Kadıköy']"
            ]
          },
          "metadata": {
            "tags": []
          },
          "execution_count": 86
        }
      ]
    },
    {
      "cell_type": "code",
      "metadata": {
        "colab": {
          "base_uri": "https://localhost:8080/",
          "height": 35
        },
        "id": "CMpXSAUuxmmB",
        "outputId": "38b5e335-106e-42b7-c858-ce434d89d35e"
      },
      "source": [
        "type(districts)"
      ],
      "execution_count": null,
      "outputs": [
        {
          "output_type": "execute_result",
          "data": {
            "text/plain": [
              "dict"
            ]
          },
          "metadata": {
            "tags": []
          },
          "execution_count": 87
        }
      ]
    },
    {
      "cell_type": "code",
      "metadata": {
        "colab": {
          "base_uri": "https://localhost:8080/",
          "height": 35
        },
        "id": "yOyreuu_xqgL",
        "outputId": "87123a0c-a302-4bd5-a654-8068fd82540d"
      },
      "source": [
        "type(districts[\"Ankara\"])"
      ],
      "execution_count": null,
      "outputs": [
        {
          "output_type": "execute_result",
          "data": {
            "text/plain": [
              "list"
            ]
          },
          "metadata": {
            "tags": []
          },
          "execution_count": 88
        }
      ]
    },
    {
      "cell_type": "code",
      "metadata": {
        "colab": {
          "base_uri": "https://localhost:8080/",
          "height": 36
        },
        "id": "jTxblvirxu9I",
        "outputId": "d36d9562-0810-4db1-9518-22c5345cae09"
      },
      "source": [
        "districts[\"İzmir\"][0][0]"
      ],
      "execution_count": null,
      "outputs": [
        {
          "output_type": "execute_result",
          "data": {
            "text/plain": [
              "'Ç'"
            ]
          },
          "metadata": {
            "tags": []
          },
          "execution_count": 96
        }
      ]
    },
    {
      "cell_type": "code",
      "metadata": {
        "colab": {
          "base_uri": "https://localhost:8080/",
          "height": 36
        },
        "id": "b2gxQlCvyMcq",
        "outputId": "6aaa7b71-8b1c-4ea7-e638-5e4ea791648d"
      },
      "source": [
        "districts[\"İzmir\"][2]"
      ],
      "execution_count": null,
      "outputs": [
        {
          "output_type": "execute_result",
          "data": {
            "text/plain": [
              "'Foça'"
            ]
          },
          "metadata": {
            "tags": []
          },
          "execution_count": 97
        }
      ]
    },
    {
      "cell_type": "code",
      "metadata": {
        "colab": {
          "base_uri": "https://localhost:8080/",
          "height": 35
        },
        "id": "Take2YvbyQSd",
        "outputId": "4a7d1fd9-e522-45a1-bfe0-677d77004955"
      },
      "source": [
        "#creating a dictionary from a list\n",
        "\n",
        "\n",
        "nums = list(range(9)) # [0,1,2,3,4,5,6,7,8]\n",
        "\n",
        "even_sqr = {x: x**2 for x in nums if x % 2 == 0}\n",
        "print(even_sqr)"
      ],
      "execution_count": null,
      "outputs": [
        {
          "output_type": "stream",
          "text": [
            "{0: 0, 2: 4, 4: 16, 6: 36, 8: 64}\n"
          ],
          "name": "stdout"
        }
      ]
    },
    {
      "cell_type": "markdown",
      "metadata": {
        "id": "Ak4uMk3pzHZI"
      },
      "source": [
        "### Küme (set)\n",
        "\n",
        "Liste, sözlük ve demet veri türü gibi birden çok veri türünü birlikte barındıran veri tipidir. Kümeler ile ilgili yaptığınız her türlü işlevi(birleşme,kesişim vs.) bu veri tipi ile yapabilirsiniz.\n",
        "\n",
        "\n",
        "\n",
        "\n",
        "\n"
      ]
    },
    {
      "cell_type": "code",
      "metadata": {
        "colab": {
          "base_uri": "https://localhost:8080/",
          "height": 35
        },
        "id": "QgZuDyx3yvn9",
        "outputId": "5661fe2b-3797-4b21-f74f-a5d733a64ad0"
      },
      "source": [
        "s = {\"python\", 5,6,8,5,6,\"abc\", \"python\",\"python\",\"python\",\"python\",\"python\",\"python\",\"python\",\"python\",\"python\"}\n",
        "s"
      ],
      "execution_count": null,
      "outputs": [
        {
          "output_type": "execute_result",
          "data": {
            "text/plain": [
              "{5, 6, 8, 'abc', 'python'}"
            ]
          },
          "metadata": {
            "tags": []
          },
          "execution_count": 100
        }
      ]
    },
    {
      "cell_type": "code",
      "metadata": {
        "colab": {
          "base_uri": "https://localhost:8080/",
          "height": 35
        },
        "id": "KmzyF9b--0Ci",
        "outputId": "0fd6f24f-f616-40e2-da1e-ea76843cbcd7"
      },
      "source": [
        "empty = set()\n",
        "type(empty)"
      ],
      "execution_count": null,
      "outputs": [
        {
          "output_type": "execute_result",
          "data": {
            "text/plain": [
              "set"
            ]
          },
          "metadata": {
            "tags": []
          },
          "execution_count": 101
        }
      ]
    },
    {
      "cell_type": "code",
      "metadata": {
        "colab": {
          "base_uri": "https://localhost:8080/",
          "height": 35
        },
        "id": "8qLJrT9VAUvf",
        "outputId": "49d3a738-03e5-45f9-a284-eab1cd844848"
      },
      "source": [
        "empty2 = {}\n",
        "type(empty2)"
      ],
      "execution_count": null,
      "outputs": [
        {
          "output_type": "execute_result",
          "data": {
            "text/plain": [
              "dict"
            ]
          },
          "metadata": {
            "tags": []
          },
          "execution_count": 102
        }
      ]
    },
    {
      "cell_type": "code",
      "metadata": {
        "colab": {
          "base_uri": "https://localhost:8080/",
          "height": 35
        },
        "id": "cH4PCXOhAZpS",
        "outputId": "4de26760-75fc-49bc-dae2-a1b72febd89d"
      },
      "source": [
        "s2 = set([\"python\", 5,6,8,5,6,\"abc\", \"python\"])\n",
        "print(s2)"
      ],
      "execution_count": null,
      "outputs": [
        {
          "output_type": "stream",
          "text": [
            "{'abc', 5, 6, 8, 'python'}\n"
          ],
          "name": "stdout"
        }
      ]
    },
    {
      "cell_type": "code",
      "metadata": {
        "id": "TLu1Ec_bA__q",
        "outputId": "f2b34f89-0067-4254-9b99-77a2307ab025"
      },
      "source": [
        "ne = set(\"pineapple\")\n",
        "print(ne)\n",
        "ne"
      ],
      "execution_count": null,
      "outputs": [
        {
          "output_type": "stream",
          "text": [
            "{'l', 'n', 'i', 'a', 'p', 'e'}\n"
          ],
          "name": "stdout"
        },
        {
          "output_type": "execute_result",
          "data": {
            "text/plain": [
              "{'a', 'e', 'i', 'l', 'n', 'p'}"
            ]
          },
          "metadata": {
            "tags": []
          },
          "execution_count": 112
        }
      ]
    },
    {
      "cell_type": "code",
      "metadata": {
        "colab": {
          "base_uri": "https://localhost:8080/",
          "height": 186
        },
        "id": "JEA3fgi7BXBR",
        "outputId": "ffaeb6f0-240c-4dea-a179-4b98c7051dca"
      },
      "source": [
        "#Bu hata neden alındı.\n",
        "y = {\"a\",\"b\",{'a':[1,2,3]},5,6}\n",
        "print(y) "
      ],
      "execution_count": null,
      "outputs": [
        {
          "output_type": "error",
          "ename": "TypeError",
          "evalue": "unhashable type: 'dict'",
          "traceback": [
            "\u001b[1;31m---------------------------------------------------------------------------\u001b[0m",
            "\u001b[1;31mTypeError\u001b[0m                                 Traceback (most recent call last)",
            "\u001b[1;32m<ipython-input-118-055bcfaf741a>\u001b[0m in \u001b[0;36m<module>\u001b[1;34m\u001b[0m\n\u001b[0;32m      1\u001b[0m \u001b[1;31m#Bu hata neden alındı.\u001b[0m\u001b[1;33m\u001b[0m\u001b[1;33m\u001b[0m\u001b[1;33m\u001b[0m\u001b[0m\n\u001b[1;32m----> 2\u001b[1;33m \u001b[0my\u001b[0m \u001b[1;33m=\u001b[0m \u001b[1;33m{\u001b[0m\u001b[1;34m\"a\"\u001b[0m\u001b[1;33m,\u001b[0m\u001b[1;34m\"b\"\u001b[0m\u001b[1;33m,\u001b[0m\u001b[1;33m{\u001b[0m\u001b[1;34m'a'\u001b[0m\u001b[1;33m:\u001b[0m\u001b[1;33m[\u001b[0m\u001b[1;36m1\u001b[0m\u001b[1;33m,\u001b[0m\u001b[1;36m2\u001b[0m\u001b[1;33m,\u001b[0m\u001b[1;36m3\u001b[0m\u001b[1;33m]\u001b[0m\u001b[1;33m}\u001b[0m\u001b[1;33m,\u001b[0m\u001b[1;36m5\u001b[0m\u001b[1;33m,\u001b[0m\u001b[1;36m6\u001b[0m\u001b[1;33m}\u001b[0m\u001b[1;33m\u001b[0m\u001b[1;33m\u001b[0m\u001b[0m\n\u001b[0m\u001b[0;32m      3\u001b[0m \u001b[0mprint\u001b[0m\u001b[1;33m(\u001b[0m\u001b[0my\u001b[0m\u001b[1;33m)\u001b[0m\u001b[1;33m\u001b[0m\u001b[1;33m\u001b[0m\u001b[0m\n",
            "\u001b[1;31mTypeError\u001b[0m: unhashable type: 'dict'"
          ]
        }
      ]
    },
    {
      "cell_type": "code",
      "metadata": {
        "colab": {
          "base_uri": "https://localhost:8080/",
          "height": 35
        },
        "id": "WNZzrXshBy-0",
        "outputId": "7683a43d-ecba-44c9-bb94-c53a70bba02d"
      },
      "source": [
        "s2"
      ],
      "execution_count": null,
      "outputs": [
        {
          "output_type": "execute_result",
          "data": {
            "text/plain": [
              "{5, 6, 8, 'abc', 'python'}"
            ]
          },
          "metadata": {
            "tags": []
          },
          "execution_count": 120
        }
      ]
    },
    {
      "cell_type": "code",
      "metadata": {
        "colab": {
          "base_uri": "https://localhost:8080/",
          "height": 35
        },
        "id": "k1IVnwKEB0Wn",
        "outputId": "c7eefb52-3522-4954-f90a-b7cdc30e4ee2"
      },
      "source": [
        "6 in s2"
      ],
      "execution_count": null,
      "outputs": [
        {
          "output_type": "execute_result",
          "data": {
            "text/plain": [
              "True"
            ]
          },
          "metadata": {
            "tags": []
          },
          "execution_count": 121
        }
      ]
    },
    {
      "cell_type": "code",
      "metadata": {
        "colab": {
          "base_uri": "https://localhost:8080/",
          "height": 35
        },
        "id": "GUtmrwfhB2mj",
        "outputId": "d52e785c-6aa7-4397-ed56-a0599cdbe4f5"
      },
      "source": [
        "9 in s2"
      ],
      "execution_count": null,
      "outputs": [
        {
          "output_type": "execute_result",
          "data": {
            "text/plain": [
              "False"
            ]
          },
          "metadata": {
            "tags": []
          },
          "execution_count": 122
        }
      ]
    },
    {
      "cell_type": "code",
      "metadata": {
        "colab": {
          "base_uri": "https://localhost:8080/",
          "height": 35
        },
        "id": "lPvxuypLB4Pg",
        "outputId": "f13d4e43-966b-4b31-8bdc-12093592e187"
      },
      "source": [
        "len(s2)"
      ],
      "execution_count": null,
      "outputs": [
        {
          "output_type": "execute_result",
          "data": {
            "text/plain": [
              "5"
            ]
          },
          "metadata": {
            "tags": []
          },
          "execution_count": 123
        }
      ]
    },
    {
      "cell_type": "code",
      "metadata": {
        "colab": {
          "base_uri": "https://localhost:8080/",
          "height": 35
        },
        "id": "wCijI6-vCEj6",
        "outputId": "b59118c9-6059-4002-d1aa-283b6761f5f4"
      },
      "source": [
        "s2.add(\"ai\")\n",
        "s2"
      ],
      "execution_count": null,
      "outputs": [
        {
          "output_type": "execute_result",
          "data": {
            "text/plain": [
              "{5, 6, 8, 'abc', 'ai', 'python'}"
            ]
          },
          "metadata": {
            "tags": []
          },
          "execution_count": 124
        }
      ]
    },
    {
      "cell_type": "code",
      "metadata": {
        "colab": {
          "base_uri": "https://localhost:8080/",
          "height": 52
        },
        "id": "tPq001PuCLO3",
        "outputId": "82b1466c-46b1-45f9-adc7-6b87b13c6763"
      },
      "source": [
        "s2.add(\"ai\")\n",
        "print(s2)\n",
        "len(s2)"
      ],
      "execution_count": null,
      "outputs": [
        {
          "output_type": "stream",
          "text": [
            "{'abc', 5, 6, 8, 'python', 'ai'}\n"
          ],
          "name": "stdout"
        },
        {
          "output_type": "execute_result",
          "data": {
            "text/plain": [
              "6"
            ]
          },
          "metadata": {
            "tags": []
          },
          "execution_count": 126
        }
      ]
    },
    {
      "cell_type": "code",
      "metadata": {
        "colab": {
          "base_uri": "https://localhost:8080/",
          "height": 35
        },
        "id": "EGZnvf9WCRYk",
        "outputId": "2d503674-8139-4afc-bbbb-da3515931d25"
      },
      "source": [
        "s2.remove(\"ai\")\n",
        "print(s2)"
      ],
      "execution_count": null,
      "outputs": [
        {
          "output_type": "stream",
          "text": [
            "{'abc', 5, 6, 8, 'python'}\n"
          ],
          "name": "stdout"
        }
      ]
    },
    {
      "cell_type": "code",
      "metadata": {
        "colab": {
          "base_uri": "https://localhost:8080/",
          "height": 35
        },
        "id": "wtZoskbUDQMN",
        "outputId": "effe7b2c-3db1-4a91-9e5e-99f0789e16cd"
      },
      "source": [
        "#karekök bulma\n",
        "from math import sqrt\n",
        "\n",
        "#import math \n",
        "\n",
        "print({x for x in list(range(10))})\n",
        "\n",
        "print({sqrt(x) for x in list(range(10))})\n"
      ],
      "execution_count": null,
      "outputs": [
        {
          "output_type": "stream",
          "text": [
            "{0, 1, 2, 3, 4, 5, 6, 7, 8, 9}\n",
            "{0.0, 1.0, 2.0, 1.7320508075688772, 1.4142135623730951, 2.23606797749979, 2.449489742783178, 2.6457513110645907, 2.8284271247461903, 3.0}\n"
          ],
          "name": "stdout"
        }
      ]
    },
    {
      "cell_type": "markdown",
      "metadata": {
        "id": "sp_E8xAhG21y"
      },
      "source": [
        "# Demet (Tuple)\n",
        "\n",
        "Demetler birden fazla veri türünü bir arada bulundurabilen virgüllerle veya parantez ile gösterilen immutable(değiştirilemeyen) veri tipleridir.\n",
        "\n"
      ]
    },
    {
      "cell_type": "code",
      "metadata": {
        "colab": {
          "base_uri": "https://localhost:8080/",
          "height": 52
        },
        "id": "8Rui2302H8jD",
        "outputId": "c925805c-b8c6-48bd-ce59-62df117086be"
      },
      "source": [
        "tupl = (1,2,3,4,5)\n",
        "print(tupl)\n",
        "print(type(tupl))"
      ],
      "execution_count": null,
      "outputs": [
        {
          "output_type": "stream",
          "text": [
            "(1, 2, 3, 4, 5)\n",
            "<class 'tuple'>\n"
          ],
          "name": "stdout"
        }
      ]
    },
    {
      "cell_type": "code",
      "metadata": {
        "colab": {
          "base_uri": "https://localhost:8080/",
          "height": 35
        },
        "id": "wZffTxPsIqqI",
        "outputId": "e043064f-a416-46bd-adcc-9f739ff992f9"
      },
      "source": [
        "tuple2 = ()  \n",
        "type(tuple2)"
      ],
      "execution_count": null,
      "outputs": [
        {
          "output_type": "execute_result",
          "data": {
            "text/plain": [
              "tuple"
            ]
          },
          "metadata": {
            "tags": []
          },
          "execution_count": 132
        }
      ]
    },
    {
      "cell_type": "code",
      "metadata": {
        "colab": {
          "base_uri": "https://localhost:8080/",
          "height": 35
        },
        "id": "IrvB1HzGLYBZ",
        "outputId": "dab4ddd5-3799-493f-c314-8f71b67320b8"
      },
      "source": [
        "print(tupl[3])"
      ],
      "execution_count": null,
      "outputs": [
        {
          "output_type": "stream",
          "text": [
            "4\n"
          ],
          "name": "stdout"
        }
      ]
    },
    {
      "cell_type": "code",
      "metadata": {
        "colab": {
          "base_uri": "https://localhost:8080/",
          "height": 35
        },
        "id": "y_9FkBJORo5y",
        "outputId": "ec7d4abf-777d-4363-c014-9b5ed5c69101"
      },
      "source": [
        "tupl[-2]"
      ],
      "execution_count": null,
      "outputs": [
        {
          "output_type": "execute_result",
          "data": {
            "text/plain": [
              "4"
            ]
          },
          "metadata": {
            "tags": []
          },
          "execution_count": 134
        }
      ]
    },
    {
      "cell_type": "code",
      "metadata": {
        "colab": {
          "base_uri": "https://localhost:8080/",
          "height": 35
        },
        "id": "ZPMFZi-qRs4a",
        "outputId": "7b3703ec-141d-4ba4-9a4c-d48e3c9ce5d6"
      },
      "source": [
        "tupl[:4]"
      ],
      "execution_count": null,
      "outputs": [
        {
          "output_type": "execute_result",
          "data": {
            "text/plain": [
              "(1, 2, 3, 4)"
            ]
          },
          "metadata": {
            "tags": []
          },
          "execution_count": 135
        }
      ]
    },
    {
      "cell_type": "code",
      "metadata": {
        "colab": {
          "base_uri": "https://localhost:8080/",
          "height": 35
        },
        "id": "TeT5RXH1R6Gv",
        "outputId": "94499c40-f15e-4f5d-8c59-f68470a8ca10"
      },
      "source": [
        "dm3 = (\"asli\", 5, 8, \"september\")\n",
        "dm3.index(\"september\")"
      ],
      "execution_count": null,
      "outputs": [
        {
          "output_type": "execute_result",
          "data": {
            "text/plain": [
              "3"
            ]
          },
          "metadata": {
            "tags": []
          },
          "execution_count": 136
        }
      ]
    },
    {
      "cell_type": "code",
      "metadata": {
        "colab": {
          "base_uri": "https://localhost:8080/",
          "height": 35
        },
        "id": "wRks9wXwSRhJ",
        "outputId": "03b8bf14-973e-4413-c16d-60b29f14d26e"
      },
      "source": [
        "dm3.count(5)\n"
      ],
      "execution_count": null,
      "outputs": [
        {
          "output_type": "execute_result",
          "data": {
            "text/plain": [
              "1"
            ]
          },
          "metadata": {
            "tags": []
          },
          "execution_count": 137
        }
      ]
    },
    {
      "cell_type": "code",
      "metadata": {
        "colab": {
          "base_uri": "https://localhost:8080/",
          "height": 239
        },
        "id": "Bo_JC5jkSWMf",
        "outputId": "c8777e9c-074f-42d5-9e72-bf7c154eb653"
      },
      "source": [
        "dm4 = (\"apple\",\"pear\",\"strawberry\")\n",
        "\n",
        "dm4[0] = \"cherry\"\n",
        "\n",
        "print(dm4)"
      ],
      "execution_count": null,
      "outputs": [
        {
          "output_type": "error",
          "ename": "TypeError",
          "evalue": "'tuple' object does not support item assignment",
          "traceback": [
            "\u001b[1;31m---------------------------------------------------------------------------\u001b[0m",
            "\u001b[1;31mTypeError\u001b[0m                                 Traceback (most recent call last)",
            "\u001b[1;32m<ipython-input-139-4f4bd157cad3>\u001b[0m in \u001b[0;36m<module>\u001b[1;34m\u001b[0m\n\u001b[0;32m      1\u001b[0m \u001b[0mdm4\u001b[0m \u001b[1;33m=\u001b[0m \u001b[1;33m(\u001b[0m\u001b[1;34m\"apple\"\u001b[0m\u001b[1;33m,\u001b[0m\u001b[1;34m\"pear\"\u001b[0m\u001b[1;33m,\u001b[0m\u001b[1;34m\"strawberry\"\u001b[0m\u001b[1;33m)\u001b[0m\u001b[1;33m\u001b[0m\u001b[1;33m\u001b[0m\u001b[0m\n\u001b[0;32m      2\u001b[0m \u001b[1;33m\u001b[0m\u001b[0m\n\u001b[1;32m----> 3\u001b[1;33m \u001b[0mdm4\u001b[0m\u001b[1;33m[\u001b[0m\u001b[1;36m0\u001b[0m\u001b[1;33m]\u001b[0m \u001b[1;33m=\u001b[0m \u001b[1;34m\"cherry\"\u001b[0m\u001b[1;33m\u001b[0m\u001b[1;33m\u001b[0m\u001b[0m\n\u001b[0m\u001b[0;32m      4\u001b[0m \u001b[1;33m\u001b[0m\u001b[0m\n\u001b[0;32m      5\u001b[0m \u001b[0mprint\u001b[0m\u001b[1;33m(\u001b[0m\u001b[0mdm4\u001b[0m\u001b[1;33m)\u001b[0m\u001b[1;33m\u001b[0m\u001b[1;33m\u001b[0m\u001b[0m\n",
            "\u001b[1;31mTypeError\u001b[0m: 'tuple' object does not support item assignment"
          ]
        }
      ]
    },
    {
      "cell_type": "code",
      "metadata": {
        "id": "Ygih5OHXcF0H",
        "outputId": "30f76709-2387-4d23-d062-35ee80be37a7"
      },
      "source": [
        "dm4 = (\"apple\",\"pear\",\"strawberry\")\n",
        "\n",
        "dm4[3] = \"cherry\"\n",
        "\n",
        "print(dm4)"
      ],
      "execution_count": null,
      "outputs": [
        {
          "output_type": "error",
          "ename": "TypeError",
          "evalue": "'tuple' object does not support item assignment",
          "traceback": [
            "\u001b[1;31m---------------------------------------------------------------------------\u001b[0m",
            "\u001b[1;31mTypeError\u001b[0m                                 Traceback (most recent call last)",
            "\u001b[1;32m<ipython-input-140-2bcdca579179>\u001b[0m in \u001b[0;36m<module>\u001b[1;34m\u001b[0m\n\u001b[0;32m      1\u001b[0m \u001b[0mdm4\u001b[0m \u001b[1;33m=\u001b[0m \u001b[1;33m(\u001b[0m\u001b[1;34m\"apple\"\u001b[0m\u001b[1;33m,\u001b[0m\u001b[1;34m\"pear\"\u001b[0m\u001b[1;33m,\u001b[0m\u001b[1;34m\"strawberry\"\u001b[0m\u001b[1;33m)\u001b[0m\u001b[1;33m\u001b[0m\u001b[1;33m\u001b[0m\u001b[0m\n\u001b[0;32m      2\u001b[0m \u001b[1;33m\u001b[0m\u001b[0m\n\u001b[1;32m----> 3\u001b[1;33m \u001b[0mdm4\u001b[0m\u001b[1;33m[\u001b[0m\u001b[1;36m3\u001b[0m\u001b[1;33m]\u001b[0m \u001b[1;33m=\u001b[0m \u001b[1;34m\"cherry\"\u001b[0m\u001b[1;33m\u001b[0m\u001b[1;33m\u001b[0m\u001b[0m\n\u001b[0m\u001b[0;32m      4\u001b[0m \u001b[1;33m\u001b[0m\u001b[0m\n\u001b[0;32m      5\u001b[0m \u001b[0mprint\u001b[0m\u001b[1;33m(\u001b[0m\u001b[0mdm4\u001b[0m\u001b[1;33m)\u001b[0m\u001b[1;33m\u001b[0m\u001b[1;33m\u001b[0m\u001b[0m\n",
            "\u001b[1;31mTypeError\u001b[0m: 'tuple' object does not support item assignment"
          ]
        }
      ]
    },
    {
      "cell_type": "code",
      "metadata": {
        "id": "7DJI2GHDcF0H",
        "outputId": "fd5fd290-8f8d-44ba-fc2e-657414102d55"
      },
      "source": [
        "dm4"
      ],
      "execution_count": null,
      "outputs": [
        {
          "output_type": "execute_result",
          "data": {
            "text/plain": [
              "('apple', 'pear', 'strawberry')"
            ]
          },
          "metadata": {
            "tags": []
          },
          "execution_count": 143
        }
      ]
    },
    {
      "cell_type": "code",
      "metadata": {
        "id": "twLyvUivSoBr",
        "outputId": "93583b51-3d6f-4de1-9f10-bb67318122ae"
      },
      "source": [
        "dm4.remove(\"pear\")"
      ],
      "execution_count": null,
      "outputs": [
        {
          "output_type": "error",
          "ename": "AttributeError",
          "evalue": "'tuple' object has no attribute 'remove'",
          "traceback": [
            "\u001b[1;31m---------------------------------------------------------------------------\u001b[0m",
            "\u001b[1;31mAttributeError\u001b[0m                            Traceback (most recent call last)",
            "\u001b[1;32m<ipython-input-144-fd596d7b946d>\u001b[0m in \u001b[0;36m<module>\u001b[1;34m\u001b[0m\n\u001b[1;32m----> 1\u001b[1;33m \u001b[0mdm4\u001b[0m\u001b[1;33m.\u001b[0m\u001b[0mremove\u001b[0m\u001b[1;33m(\u001b[0m\u001b[1;34m\"pear\"\u001b[0m\u001b[1;33m)\u001b[0m\u001b[1;33m\u001b[0m\u001b[1;33m\u001b[0m\u001b[0m\n\u001b[0m",
            "\u001b[1;31mAttributeError\u001b[0m: 'tuple' object has no attribute 'remove'"
          ]
        }
      ]
    },
    {
      "cell_type": "code",
      "metadata": {
        "colab": {
          "base_uri": "https://localhost:8080/",
          "height": 35
        },
        "id": "vSdY0CMtTLrH",
        "outputId": "46eabc10-590c-478e-9d08-10b78b3f1a5d"
      },
      "source": [
        "# creating a dictionary in which tuples are keys.\n",
        "\n",
        "a = {(x, x+1): x for x in range(10)}\n",
        "print(a)"
      ],
      "execution_count": null,
      "outputs": [
        {
          "output_type": "stream",
          "text": [
            "{(0, 1): 0, (1, 2): 1, (2, 3): 2, (3, 4): 3, (4, 5): 4, (5, 6): 5, (6, 7): 6, (7, 8): 7, (8, 9): 8, (9, 10): 9}\n"
          ],
          "name": "stdout"
        }
      ]
    },
    {
      "cell_type": "code",
      "metadata": {
        "colab": {
          "base_uri": "https://localhost:8080/",
          "height": 35
        },
        "id": "hX8AvulwTm-D",
        "outputId": "d25b0273-6de6-427c-8979-4a21b1c0309c"
      },
      "source": [
        "s5 = (5,6)\n",
        "\n",
        "print(type(s5))"
      ],
      "execution_count": null,
      "outputs": [
        {
          "output_type": "stream",
          "text": [
            "<class 'tuple'>\n"
          ],
          "name": "stdout"
        }
      ]
    },
    {
      "cell_type": "code",
      "metadata": {
        "colab": {
          "base_uri": "https://localhost:8080/",
          "height": 35
        },
        "id": "Cc0NzYWbT21n",
        "outputId": "994340a4-9c84-4ec7-ccc5-deeab889f5ee"
      },
      "source": [
        "a[s5]"
      ],
      "execution_count": null,
      "outputs": [
        {
          "output_type": "execute_result",
          "data": {
            "text/plain": [
              "5"
            ]
          },
          "metadata": {
            "tags": []
          },
          "execution_count": 148
        }
      ]
    },
    {
      "cell_type": "code",
      "metadata": {
        "colab": {
          "base_uri": "https://localhost:8080/",
          "height": 35
        },
        "id": "3XIfNKugUB1h",
        "outputId": "88af65b6-2839-49f5-9326-ad97e1807fda"
      },
      "source": [
        "a[(3,4)]"
      ],
      "execution_count": null,
      "outputs": [
        {
          "output_type": "execute_result",
          "data": {
            "text/plain": [
              "3"
            ]
          },
          "metadata": {
            "tags": []
          },
          "execution_count": 149
        }
      ]
    },
    {
      "cell_type": "markdown",
      "metadata": {
        "id": "aZxB3AAFcF0I"
      },
      "source": [
        "### Question"
      ]
    },
    {
      "cell_type": "code",
      "metadata": {
        "id": "30m4o5NZcF0I"
      },
      "source": [
        "vegetables = ['squash', 'pea', 'carrot', 'potato']\n",
        "vegetables.sort()"
      ],
      "execution_count": null,
      "outputs": []
    },
    {
      "cell_type": "code",
      "metadata": {
        "id": "hwe12MiGcF0I",
        "outputId": "d92decee-60ac-4210-9c7d-59fb77c4baf8"
      },
      "source": [
        "vegetables"
      ],
      "execution_count": null,
      "outputs": [
        {
          "output_type": "execute_result",
          "data": {
            "text/plain": [
              "['carrot', 'pea', 'potato', 'squash']"
            ]
          },
          "metadata": {
            "tags": []
          },
          "execution_count": 152
        }
      ]
    },
    {
      "cell_type": "code",
      "metadata": {
        "id": "ULAaa-DLcF0I",
        "outputId": "8d862dec-2e1c-49b0-91db-991747ca48c2"
      },
      "source": [
        "vegetables"
      ],
      "execution_count": null,
      "outputs": [
        {
          "output_type": "execute_result",
          "data": {
            "text/plain": [
              "['carrot', 'pea', 'potato', 'squash']"
            ]
          },
          "metadata": {
            "tags": []
          },
          "execution_count": 153
        }
      ]
    },
    {
      "cell_type": "code",
      "metadata": {
        "id": "OCK3DipfcF0I",
        "outputId": "e2f59d48-3493-4adc-972d-1cc77f2fcf3d"
      },
      "source": [
        "fruit = ['watermelon','pineapple', 'apple', 'banana', 'apricot']\n",
        "sorted(fruit)"
      ],
      "execution_count": null,
      "outputs": [
        {
          "output_type": "execute_result",
          "data": {
            "text/plain": [
              "['apple', 'apricot', 'banana', 'pineapple', 'watermelon']"
            ]
          },
          "metadata": {
            "tags": []
          },
          "execution_count": 154
        }
      ]
    },
    {
      "cell_type": "code",
      "metadata": {
        "id": "GXq6w0LZcF0J",
        "outputId": "ba46d037-26e5-4c73-c1c8-2ea1ef7cd6e1"
      },
      "source": [
        "fruit"
      ],
      "execution_count": null,
      "outputs": [
        {
          "output_type": "execute_result",
          "data": {
            "text/plain": [
              "['watermelon', 'pineapple', 'apple', 'banana', 'apricot']"
            ]
          },
          "metadata": {
            "tags": []
          },
          "execution_count": 155
        }
      ]
    }
  ]
}